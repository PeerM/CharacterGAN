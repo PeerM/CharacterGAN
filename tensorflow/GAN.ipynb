{
 "cells": [
  {
   "cell_type": "code",
   "execution_count": 1,
   "metadata": {
    "collapsed": true
   },
   "outputs": [],
   "source": [
    "def variable_summaries(var, name):\n",
    "    '''Attach a lot of summaries to a Tensor.'''\n",
    "    mean = tf.reduce_mean(var)\n",
    "    tf.scalar_summary('mean/' + name, mean)\n",
    "    with tf.name_scope('stddev'):\n",
    "        stddev = tf.sqrt(tf.reduce_sum(tf.square(var - mean)))\n",
    "    tf.scalar_summary('sttdev/' + name, stddev)\n",
    "    tf.scalar_summary('max/' + name, tf.reduce_max(var))\n",
    "    tf.scalar_summary('min/' + name, tf.reduce_min(var))\n",
    "    tf.histogram_summary(name, var)"
   ]
  },
  {
   "cell_type": "code",
   "execution_count": 5,
   "metadata": {
    "collapsed": true
   },
   "outputs": [],
   "source": [
    "# Parameters\n",
    "batch_size = 3\n",
    "seq_length = 6\n",
    "rnn_size   = 10\n",
    "vocab_size = 5\n",
    "save_dir_GAN = 'models_GAN'\n",
    "vocab_file = 'simple_vocab.pkl'"
   ]
  },
  {
   "cell_type": "code",
   "execution_count": 7,
   "metadata": {
    "collapsed": true
   },
   "outputs": [],
   "source": [
    "# Load Vocabulary\n",
    "def load_vocab(save_dir_GAN, vocab_file):\n",
    "    with open(os.path.join(save_dir_GAN, vocab_file)) as f:\n",
    "            chars, vocab = cPickle.load(f)\n",
    "    return chars, vocab"
   ]
  },
  {
   "cell_type": "code",
   "execution_count": 20,
   "metadata": {
    "collapsed": false,
    "scrolled": false
   },
   "outputs": [
    {
     "name": "stdout",
     "output_type": "stream",
     "text": [
      "Iteration 0\n",
      "[[-0.18287835 -0.0958939   0.06456404 -0.37236714 -1.10697126]\n",
      " [-0.18287835 -0.0958939   0.06456404 -0.37236714 -1.10697126]\n",
      " [-0.18287835 -0.0958939   0.06456404 -0.37236714 -1.10697126]] \n",
      "\n",
      "Iteration 1\n",
      "[[-0.3892526   0.65059733 -0.43885985 -0.27126485  0.66572267]\n",
      " [ 0.29698253 -0.20217638 -0.46595472  0.5914343   0.6643908 ]\n",
      " [-0.53317803  0.45216396 -0.384321   -0.05057469  0.19042294]] \n",
      "\n",
      "Iteration 2\n",
      "[[-0.32650709  0.0749344  -0.23158525 -0.23768994 -1.21404421]\n",
      " [ 0.13346942 -0.21788587  0.13201918 -0.28183323 -1.2738893 ]\n",
      " [ 0.1022656  -0.10732047 -0.12744111 -0.43471453 -0.88889432]] \n",
      "\n",
      "Iteration 3\n",
      "[[ 0.10360787  0.11802831 -0.46048519  0.77915812  0.61401176]\n",
      " [-0.0490162  -0.02536197 -0.20258133 -0.39626852 -1.30988908]\n",
      " [-0.42555541  0.03015882 -0.11452354 -0.48365465 -1.53205168]] \n",
      "\n",
      "Iteration 4\n",
      "[[-0.64681828  0.51537561 -0.0290359   0.01668627 -0.45171329]\n",
      " [ 0.04502735 -0.12548052 -0.44158348 -0.31045333 -0.44337764]\n",
      " [-0.04854381  0.16968703 -0.52634954 -0.17968357 -0.52273393]] \n",
      "\n",
      "Iteration 5\n",
      "[[-0.43763873  0.72698045 -0.43817377 -0.15191287  0.34392726]\n",
      " [-0.20092431  0.02203538 -0.52975744 -0.43146947 -0.63349843]\n",
      " [-0.41394433  0.25955331 -0.29355776 -0.11867669 -1.1682508 ]] \n",
      "\n",
      "Iteration 0\n",
      "['b', 'b', 'b'] \n",
      "\n",
      "Iteration 1\n",
      "[' ', 'e', 'e'] \n",
      "\n",
      "Iteration 2\n",
      "['b', 'b', '\\n'] \n",
      "\n",
      "Iteration 3\n",
      "['r', 'e', 'e'] \n",
      "\n",
      "Iteration 4\n",
      "['b', ' ', 'e'] \n",
      "\n",
      "Iteration 5\n",
      "['e', 'r', '\\n'] \n",
      "\n"
     ]
    }
   ],
   "source": [
    "# Generator\n",
    "import tensorflow as tf\n",
    "import os\n",
    "import cPickle\n",
    "from tensorflow.contrib.distributions import Categorical\n",
    "tf.reset_default_graph()\n",
    "\n",
    "def map_to_text(indices, chars):\n",
    "    text = []\n",
    "    for index in indices:\n",
    "        text.append(chars[index])\n",
    "    return text\n",
    "\n",
    "def generate():    \n",
    "    # Vocabulary\n",
    "\n",
    "    # Initial indices\n",
    "    batch_indices = tf.constant(3, shape=[batch_size])\n",
    "\n",
    "    # Embeddings and Logits\n",
    "    embedding = tf.get_variable('embedding', [vocab_size, rnn_size])\n",
    "    softmax   = tf.get_variable('softmax', [rnn_size, vocab_size])\n",
    "\n",
    "    # RNN\n",
    "    outputs, indices = [], []\n",
    "    cell = tf.nn.rnn_cell.BasicRNNCell(rnn_size)\n",
    "    state = cell.zero_state(batch_size, tf.float32)\n",
    "    inp = tf.nn.embedding_lookup(embedding, batch_indices)\n",
    "        \n",
    "    with tf.variable_scope('rnn'):\n",
    "        for i in xrange(seq_length):\n",
    "            indices.append(batch_indices)\n",
    "            if i > 0:\n",
    "                tf.get_variable_scope().reuse_variables()\n",
    "            rnn_out, state = cell(inp, state)\n",
    "            logits_out = tf.matmul(rnn_out, softmax)\n",
    "            outputs.append(logits_out)\n",
    "            batch_indices = tf.squeeze(Categorical(logits_out).sample(n=1))\n",
    "            inp = tf.nn.embedding_lookup(embedding, batch_indices)\n",
    "            \n",
    "    return outputs, indices\n",
    "            \n",
    "\n",
    "with tf.Session() as sess: \n",
    "    outputs, indices = generate()\n",
    "    init_op = tf.initialize_all_variables()\n",
    "    sess.run(init_op)\n",
    "\n",
    "    chars, vocab = load_vocab(save_dir_GAN, vocab_file)\n",
    "    \n",
    "    for i, output in enumerate(outputs):\n",
    "        print 'Iteration %d'%i\n",
    "        print sess.run(output),'\\n'\n",
    "    \n",
    "    for i, batch_indices in enumerate(indices):\n",
    "        print 'Iteration %d'%i\n",
    "        print map_to_text(sess.run(batch_indices), chars),'\\n'\n",
    "    \n",
    "#     for line in indices:\n",
    "#         print ''.join(line)"
   ]
  },
  {
   "cell_type": "code",
   "execution_count": 29,
   "metadata": {
    "collapsed": false
   },
   "outputs": [
    {
     "name": "stdout",
     "output_type": "stream",
     "text": [
      "Indices:  [2 2 2 2 1]\n"
     ]
    }
   ],
   "source": [
    "tf.reset_default_graph()\n",
    "logits = tf.constant([1.,2.,3.])\n",
    "indices = tf.squeeze(Categorical(logits).sample(n=5))\n",
    "\n",
    "with tf.Session() as sess:\n",
    "    print 'Indices: ',indices.eval()"
   ]
  }
 ],
 "metadata": {
  "kernelspec": {
   "display_name": "Python 2",
   "language": "python",
   "name": "python2"
  },
  "language_info": {
   "codemirror_mode": {
    "name": "ipython",
    "version": 2
   },
   "file_extension": ".py",
   "mimetype": "text/x-python",
   "name": "python",
   "nbconvert_exporter": "python",
   "pygments_lexer": "ipython2",
   "version": "2.7.6"
  }
 },
 "nbformat": 4,
 "nbformat_minor": 0
}
