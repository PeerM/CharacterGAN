{
 "cells": [
  {
   "cell_type": "markdown",
   "metadata": {},
   "source": [
    "## Parameters"
   ]
  },
  {
   "cell_type": "code",
   "execution_count": 16,
   "metadata": {
    "collapsed": true
   },
   "outputs": [],
   "source": [
    "batch_size = 3\n",
    "seq_length = 4\n",
    "rnn_size   = 10\n",
    "vocab_size = 5\n",
    "save_dir_GAN = 'models_GAN'\n",
    "vocab_file = 'simple_vocab.pkl'\n",
    "model = 'lstm'\n",
    "num_layers = 2"
   ]
  },
  {
   "cell_type": "markdown",
   "metadata": {},
   "source": [
    "## Generate Samples"
   ]
  },
  {
   "cell_type": "code",
   "execution_count": 7,
   "metadata": {
    "collapsed": true
   },
   "outputs": [],
   "source": [
    "def load_vocab(save_dir_GAN, vocab_file):\n",
    "    '''Load vocabulary objects.\n",
    "    \n",
    "    Args:\n",
    "        save_dir_GAN:  Directory containing vocab_files.\n",
    "        vocab_file: Vocab file to use.\n",
    "    '''\n",
    "    with open(os.path.join(save_dir_GAN, vocab_file)) as f:\n",
    "            chars, vocab = cPickle.load(f)\n",
    "    return chars, vocab\n",
    "\n",
    "# Return text from indices\n",
    "def map_to_text(indices, chars):\n",
    "    text = []\n",
    "    for index in indices:\n",
    "        text.append(chars[index])\n",
    "    return text"
   ]
  },
  {
   "cell_type": "code",
   "execution_count": 20,
   "metadata": {
    "collapsed": false,
    "scrolled": true
   },
   "outputs": [
    {
     "name": "stdout",
     "output_type": "stream",
     "text": [
      "Iteration 0\n",
      "[[ 0.27288669 -0.28613415 -0.45236325 -0.58369422 -0.08270382]\n",
      " [ 0.27288669 -0.28613415 -0.45236325 -0.58369422 -0.08270382]\n",
      " [ 0.27288669 -0.28613415 -0.45236325 -0.58369422 -0.08270382]] \n",
      "\n",
      "Iteration 1\n",
      "[[ 0.16775502 -0.38674468 -0.20835336 -0.65464985 -0.417173  ]\n",
      " [-0.02882031 -0.45022762  0.57098377 -0.37166816 -0.27681977]\n",
      " [-0.02638191 -0.16726628  0.33778578 -0.56056243 -0.24883367]] \n",
      "\n",
      "Iteration 2\n",
      "[[ 0.27418253 -0.75881737 -0.13004506 -0.5971753  -1.05401576]\n",
      " [ 0.52052826 -0.57565653  0.14307176 -0.53279293 -0.22682998]\n",
      " [-0.5994361   0.29144675  0.5674336   0.37106675 -0.25375479]] \n",
      "\n",
      "Iteration 3\n",
      "[[ 0.12238991 -0.25080177 -0.52532065 -0.65432006 -0.0159961 ]\n",
      " [-0.98164564  0.05685884  0.32164502  0.25036573 -0.96554631]\n",
      " [ 0.2813935  -0.71913826 -0.27651945 -0.59287626 -0.76545358]] \n",
      "\n",
      "Iteration 0\n",
      "['b', 'b', 'b'] \n",
      "\n",
      "Iteration 1\n",
      "['\\n', 'r', '\\n'] \n",
      "\n",
      "Iteration 2\n",
      "['b', ' ', 'b'] \n",
      "\n",
      "Iteration 3\n",
      "['r', 'e', 'b'] \n",
      "\n"
     ]
    }
   ],
   "source": [
    "import tensorflow as tf\n",
    "import os\n",
    "import cPickle\n",
    "from tensorflow.contrib.distributions import Categorical\n",
    "tf.reset_default_graph()\n",
    "\n",
    "def generate():    \n",
    "    # Initial indices\n",
    "    batch_indices = tf.constant(3, shape=[batch_size])\n",
    "\n",
    "    # RNN\n",
    "    outputs, indices = [], []\n",
    "    cell = tf.nn.rnn_cell.BasicRNNCell(rnn_size)\n",
    "    state = cell.zero_state(batch_size, tf.float32)\n",
    "        \n",
    "    with tf.variable_scope('rnn'):\n",
    "        # Embeddings and Logits\n",
    "        embedding = tf.get_variable('embedding', [vocab_size, rnn_size])\n",
    "        softmax   = tf.get_variable('softmax', [rnn_size, vocab_size])\n",
    "\n",
    "        inp = tf.nn.embedding_lookup(embedding, batch_indices)\n",
    "        for i in xrange(seq_length):\n",
    "            indices.append(batch_indices)\n",
    "            if i > 0:\n",
    "                tf.get_variable_scope().reuse_variables()\n",
    "            rnn_out, state = cell(inp, state)\n",
    "            logits_out = tf.matmul(rnn_out, softmax)\n",
    "            outputs.append(logits_out)\n",
    "            batch_indices = tf.squeeze(Categorical(logits_out).sample(n=1))\n",
    "            inp = tf.nn.embedding_lookup(embedding, batch_indices)\n",
    "  \n",
    "    return outputs, indices\n",
    "            \n",
    "\n",
    "with tf.Session() as sess: \n",
    "    outputs, indices = generate()\n",
    "    init_op = tf.initialize_all_variables()\n",
    "    sess.run(init_op)\n",
    "\n",
    "    chars, vocab = load_vocab(save_dir_GAN, vocab_file)\n",
    "    \n",
    "    for i, output in enumerate(outputs):\n",
    "        print 'Iteration %d'%i\n",
    "        print sess.run(output),'\\n'\n",
    "    \n",
    "    for i, batch_indices in enumerate(indices):\n",
    "        print 'Iteration %d'%i\n",
    "        indices_eval = sess.run(batch_indices)\n",
    "        print map_to_text(indices_eval, chars),'\\n'\n",
    "    \n",
    "#     for line in indices:\n",
    "#         print ''.join(line)"
   ]
  },
  {
   "cell_type": "markdown",
   "metadata": {},
   "source": [
    "## Train Generator"
   ]
  },
  {
   "cell_type": "code",
   "execution_count": 30,
   "metadata": {
    "collapsed": false
   },
   "outputs": [
    {
     "name": "stderr",
     "output_type": "stream",
     "text": [
      "WARNING:tensorflow:<tensorflow.python.ops.rnn_cell.BasicLSTMCell object at 0x7fe7ca9083d0>: Using a concatenated state is slower and will soon be deprecated.  Use state_is_tuple=True.\n",
      "WARNING:tensorflow:<tensorflow.python.ops.rnn_cell.BasicLSTMCell object at 0x7fe7ec3d8f10>: Using a concatenated state is slower and will soon be deprecated.  Use state_is_tuple=True.\n"
     ]
    },
    {
     "name": "stdout",
     "output_type": "stream",
     "text": [
      "Iteration 0\n",
      "[[-0.00749493  0.01697334  0.01313861  0.00229218 -0.01638157  0.00014448\n",
      "  -0.00109797 -0.00095734 -0.00722192 -0.00764513]\n",
      " [-0.00749493  0.01697334  0.01313861  0.00229218 -0.01638157  0.00014448\n",
      "  -0.00109797 -0.00095734 -0.00722192 -0.00764513]\n",
      " [-0.00749493  0.01697334  0.01313861  0.00229218 -0.01638157  0.00014448\n",
      "  -0.00109797 -0.00095734 -0.00722192 -0.00764513]] \n",
      "\n",
      "Iteration 1\n",
      "[[-0.02286434  0.01742898  0.03792205 -0.00479201 -0.0311817  -0.02244637\n",
      "   0.00937457 -0.00589945 -0.02639428 -0.01648244]\n",
      " [-0.00574177  0.03315176  0.03856358 -0.00574849 -0.03683896  0.00802954\n",
      "   0.00408992  0.01389115 -0.01845119 -0.0007752 ]\n",
      " [-0.02286434  0.01742898  0.03792205 -0.00479201 -0.0311817  -0.02244637\n",
      "   0.00937457 -0.00589945 -0.02639428 -0.01648244]] \n",
      "\n",
      "Iteration 2\n",
      "[[-0.02122686  0.02127745  0.03796593  0.00818127 -0.05512253 -0.01532887\n",
      "   0.01488912  0.01152737 -0.01824609 -0.03385629]\n",
      " [-0.03725873  0.00746787  0.05718569 -0.0095898  -0.03223312 -0.01696057\n",
      "   0.02276419 -0.00659043 -0.04837661  0.00351917]\n",
      " [-0.04076148  0.0016856   0.05518194 -0.01391964 -0.03174184 -0.05461094\n",
      "   0.02093359 -0.01399222 -0.04421828 -0.02839319]] \n",
      "\n",
      "Iteration 3\n",
      "[[-0.05793938 -0.00702313  0.07482542 -0.0166106  -0.02848415 -0.04371614\n",
      "   0.03624923 -0.00911579 -0.06697538  0.0047512 ]\n",
      " [-0.05402326 -0.01588397  0.06677748 -0.01523744 -0.01958777 -0.05080223\n",
      "   0.03219258 -0.0174134  -0.06597482 -0.00909503]\n",
      " [-0.06276473 -0.00053737  0.08046141 -0.02061034 -0.03219402 -0.04788105\n",
      "   0.03684074 -0.00443874 -0.06712275  0.00964242]] \n",
      "\n",
      "Iteration 0\n",
      "[[-0.         -0.          0.         -0.          1.70896935]\n",
      " [-0.         -0.          0.         -0.          1.70896935]\n",
      " [-0.         -0.          0.         -0.52784759  0.        ]]\n",
      "Iteration 1\n",
      "[[-0.         -0.          0.         -0.          1.71238089]\n",
      " [-0.         -0.          0.95992112 -0.          0.        ]\n",
      " [-0.         -0.          0.         -0.          1.70337915]]\n",
      "Iteration 2\n",
      "[[-0.         -0.          0.         -0.          1.71377027]\n",
      " [-0.         -0.          0.         -0.          1.72554469]\n",
      " [-0.         -0.          0.         -0.          1.70937324]]\n",
      "Iteration 3\n",
      "[[-0.         -0.          0.         -0.          1.73779917]\n",
      " [-0.         -0.          0.         -0.          1.73033834]\n",
      " [-0.         -0.          0.         -0.          1.6973753 ]]\n"
     ]
    }
   ],
   "source": [
    "from tensorflow.python.ops.nn import rnn_cell\n",
    "from tensorflow.python.ops.nn import rnn\n",
    "from tensorflow.python.ops import array_ops\n",
    "from tensorflow.python.ops import nn_ops\n",
    "from tensorflow.python.ops import math_ops\n",
    "from tensorflow.python.framework import ops\n",
    "\n",
    "tf.reset_default_graph()\n",
    "\n",
    "def construct_gan():\n",
    "    if model == 'rnn':\n",
    "        cell_gen = rnn_cell.BasicRNNCell(rnn_size)\n",
    "        cell_dis = rnn_cell.BasicRNNCell(rnn_size)\n",
    "    elif model == 'gru':\n",
    "        cell_gen = rnn_cell.GRUCell(rnn_size)\n",
    "        cell_dis = rnn_cell.GRUCell(rnn_size)\n",
    "    elif model == 'lstm':\n",
    "        cell_gen = rnn_cell.BasicLSTMCell(rnn_size, state_is_tuple=False)\n",
    "        cell_dis = rnn_cell.BasicLSTMCell(rnn_size, state_is_tuple=False)\n",
    "    else:\n",
    "        raise NotImplementedError('Model type not supported: {}'\n",
    "                                  .format(model))\n",
    "\n",
    "    # Initial indices.\n",
    "    batch_indices = tf.constant(0, shape=[batch_size])\n",
    "        \n",
    "    # Generator Portion of GAN.\n",
    "    with tf.variable_scope('generator'):\n",
    "        outputs_gen, logit_sequence = [], []\n",
    "        cell_gen = rnn_cell.MultiRNNCell([cell_gen] * num_layers)\n",
    "        state_gen = cell_gen.zero_state(batch_size, tf.float32)\n",
    "\n",
    "        with tf.variable_scope('rnn'):\n",
    "            softmax_w = tf.get_variable('softmax_w', [rnn_size, vocab_size])\n",
    "            softmax_b = tf.get_variable('softmax_b', [vocab_size])\n",
    "            embedding = tf.get_variable('embedding', [vocab_size, rnn_size])\n",
    "            inp = tf.nn.embedding_lookup(embedding, batch_indices)\n",
    "    \n",
    "            for i in xrange(seq_length):\n",
    "                if i > 0:\n",
    "                    tf.get_variable_scope().reuse_variables()\n",
    "              \n",
    "                # RNN.\n",
    "                output_gen, state_gen = cell_gen(inp, state_gen)\n",
    "                logits_gen = tf.nn.xw_plus_b(output_gen, softmax_w, \n",
    "                                             softmax_b)\n",
    "                \n",
    "                # Sampling.\n",
    "                sample_op = tf.stop_gradient(Categorical(\n",
    "                                            logits_gen).sample(n=1))\n",
    "                batch_indices = tf.squeeze(sample_op)\n",
    "                inp = tf.nn.embedding_lookup(embedding, batch_indices)                \n",
    "                \n",
    "                # Use Only Logit Sampled.\n",
    "                one_hot = tf.stop_gradient(tf.one_hot(batch_indices,\n",
    "                                                      depth = vocab_size,\n",
    "                                                      dtype = tf.float32))\n",
    "                logit_gen = one_hot * logits_gen\n",
    "                logit_sequence.append(logit_gen)\n",
    "                outputs_gen.append(output_gen)\n",
    "\n",
    "#     return outputs_gen, logit_sequence\n",
    "            \n",
    "\n",
    "        # Discriminator Portion of GAN. \n",
    "        with tf.variable_scope('discriminator'):\n",
    "            cell_dis = rnn_cell.MultiRNNCell([cell_dis] * num_layers)\n",
    "            initial_state_dis = cell_dis.zero_state(batch_size, tf.float32)\n",
    "\n",
    "# \t\t\twith tf.variable_scope('rnn'):\n",
    "# \t\t\t\tsoftmax_w = tf.get_variable('softmax_w', [rnn_size, 2])\n",
    "# \t\t\t\tsoftmax_b = tf.get_variable('softmax_b', [2])\n",
    "\n",
    "# \t\t\t\tinputs_dis = []\n",
    "# \t\t\t\tembedding  = tf.get_variable('embedding', [vocab_size, rnn_size])\n",
    "# \t\t\t\t# for logit in logits_sequence:\n",
    "# \t\t\t\tfor logit in logit_sequence:\n",
    "# \t\t\t\t\tinputs_dis.append(tf.matmul(logit, embedding))\n",
    "\t\t\t\t\t\n",
    "# \t\t\t\toutputs_dis, last_state_dis = seq2seq.rnn_decoder(inputs_dis,\n",
    "# \t\t\t\t\tinitial_state_dis, cell_dis, loop_function=None)\n",
    "\n",
    "# \t\t\tprobs, logits = [], []\n",
    "# \t\t\tfor output_dis in outputs_dis:\n",
    "# \t\t\t\tlogit = tf.nn.xw_plus_b(output_dis, softmax_w, softmax_b)\n",
    "# \t\t\t\tprob = tf.nn.softmax(logit)\n",
    "# \t\t\t\tlogits.append(logit)\n",
    "# \t\t\t\tprobs.append(prob)\n",
    "\n",
    "# \t\t\twith tf.name_scope('summary'):\n",
    "# \t\t\t\tprobs      = tf.pack(probs)\n",
    "# \t\t\t\tprobs_real = tf.slice(probs, [0,0,1], [seq_length, batch_size, 1])\n",
    "# \t\t\t\tvariable_summaries(probs_real, 'probability of real')\n",
    "\n",
    "# \t\t\tfinal_state_dis = last_state_dis\n",
    "\n",
    "with tf.Session() as sess:\n",
    "    outputs, logits_sequence = construct_gan()\n",
    "    init_op = tf.initialize_all_variables()\n",
    "    sess.run(init_op)\n",
    "\n",
    "    for i, output in enumerate(outputs):\n",
    "        print 'Iteration %d'%i\n",
    "        print sess.run(output),'\\n'\n",
    "    \n",
    "    for i, batch_logits in enumerate(logits_sequence):\n",
    "        print 'Iteration %d'%i\n",
    "        indices_eval = sess.run(batch_logits)\n",
    "        print indices_eval\n"
   ]
  },
  {
   "cell_type": "markdown",
   "metadata": {},
   "source": [
    "## Random"
   ]
  },
  {
   "cell_type": "code",
   "execution_count": 13,
   "metadata": {
    "collapsed": false
   },
   "outputs": [
    {
     "name": "stdout",
     "output_type": "stream",
     "text": [
      "012\n",
      "012\n",
      "012\n"
     ]
    }
   ],
   "source": [
    "indices = [['0','1','2'],['0','1','2'],['0','1','2']]\n",
    "\n",
    "for line in indices:\n",
    "    print ''.join(line)"
   ]
  },
  {
   "cell_type": "code",
   "execution_count": 1,
   "metadata": {
    "collapsed": true
   },
   "outputs": [],
   "source": [
    "def variable_summaries(var, name):\n",
    "    '''Attach a lot of summaries to a Tensor.'''\n",
    "    mean = tf.reduce_mean(var)\n",
    "    tf.scalar_summary('mean/' + name, mean)\n",
    "    with tf.name_scope('stddev'):\n",
    "        stddev = tf.sqrt(tf.reduce_sum(tf.square(var - mean)))\n",
    "    tf.scalar_summary('sttdev/' + name, stddev)\n",
    "    tf.scalar_summary('max/' + name, tf.reduce_max(var))\n",
    "    tf.scalar_summary('min/' + name, tf.reduce_min(var))\n",
    "    tf.histogram_summary(name, var)"
   ]
  }
 ],
 "metadata": {
  "kernelspec": {
   "display_name": "Python 2",
   "language": "python",
   "name": "python2"
  },
  "language_info": {
   "codemirror_mode": {
    "name": "ipython",
    "version": 2
   },
   "file_extension": ".py",
   "mimetype": "text/x-python",
   "name": "python",
   "nbconvert_exporter": "python",
   "pygments_lexer": "ipython2",
   "version": "2.7.6"
  }
 },
 "nbformat": 4,
 "nbformat_minor": 0
}
