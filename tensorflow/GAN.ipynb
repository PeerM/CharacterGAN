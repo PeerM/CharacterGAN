{
 "cells": [
  {
   "cell_type": "code",
   "execution_count": 10,
   "metadata": {
    "collapsed": true
   },
   "outputs": [],
   "source": [
    "# Parameters\n",
    "batch_size = 2\n",
    "seq_length = 5\n",
    "rnn_size   = 10\n",
    "vocab_size = 3"
   ]
  },
  {
   "cell_type": "code",
   "execution_count": 19,
   "metadata": {
    "collapsed": false
   },
   "outputs": [
    {
     "name": "stdout",
     "output_type": "stream",
     "text": [
      "Iteration 0\n",
      "[[ 0.49059618  0.09215772 -0.33202538]\n",
      " [ 0.49059618  0.09215772 -0.33202538]] \n",
      "\n",
      "Iteration 1\n",
      "[[ 0.14282845  0.25214738 -0.47134605]\n",
      " [ 0.14282845  0.25214738 -0.47134605]] \n",
      "\n",
      "Iteration 2\n",
      "[[ 0.0134341   0.33580467 -0.3240346 ]\n",
      " [ 0.0134341   0.33580467 -0.3240346 ]] \n",
      "\n",
      "Iteration 3\n",
      "[[-0.14349148  0.34163788 -0.24653435]\n",
      " [-0.14349148  0.34163788 -0.24653435]] \n",
      "\n",
      "Iteration 4\n",
      "[[-0.14806585  0.37420693 -0.21538797]\n",
      " [-0.14806585  0.37420693 -0.21538797]] \n",
      "\n"
     ]
    }
   ],
   "source": [
    "# RNN Sampler\n",
    "import tensorflow as tf\n",
    "from tensorflow.contrib.distributions import Categorical\n",
    "tf.reset_default_graph()\n",
    "\n",
    "\n",
    "def generate():\n",
    "    # Initial indices\n",
    "    indices = tf.constant(0, shape=[batch_size])\n",
    "\n",
    "    # Embeddings and Logits\n",
    "    embedding = tf.get_variable('embedding', [vocab_size, rnn_size])\n",
    "    softmax   = tf.get_variable('softmax', [rnn_size, vocab_size])\n",
    "\n",
    "    # RNN\n",
    "    outputs = []\n",
    "    cell = tf.nn.rnn_cell.BasicRNNCell(rnn_size)\n",
    "    state = cell.zero_state(batch_size, tf.float32)\n",
    "    inp = tf.nn.embedding_lookup(embedding, indices)\n",
    "\n",
    "    with tf.variable_scope('rnn'):\n",
    "        for i in xrange(seq_length):\n",
    "            if i > 0:\n",
    "                tf.get_variable_scope().reuse_variables()\n",
    "            rnn_out, state = cell(inp, state)\n",
    "            logits_out = tf.matmul(rnn_out, softmax)\n",
    "            outputs.append(logits_out)\n",
    "            indices = tf.squeeze(Categorical(logits_out).sample(n=1))\n",
    "    return outputs\n",
    "            \n",
    "\n",
    "with tf.Session() as sess:\n",
    "    outputs = generate()\n",
    "    init_op = tf.initialize_all_variables()\n",
    "    sess.run(init_op)\n",
    "\n",
    "    for i, output in enumerate(outputs):\n",
    "        print 'Iteration %d'%i\n",
    "        print sess.run(output),'\\n'"
   ]
  },
  {
   "cell_type": "code",
   "execution_count": null,
   "metadata": {
    "collapsed": true
   },
   "outputs": [],
   "source": []
  }
 ],
 "metadata": {
  "kernelspec": {
   "display_name": "Python 2",
   "language": "python",
   "name": "python2"
  },
  "language_info": {
   "codemirror_mode": {
    "name": "ipython",
    "version": 2
   },
   "file_extension": ".py",
   "mimetype": "text/x-python",
   "name": "python",
   "nbconvert_exporter": "python",
   "pygments_lexer": "ipython2",
   "version": "2.7.6"
  }
 },
 "nbformat": 4,
 "nbformat_minor": 0
}
