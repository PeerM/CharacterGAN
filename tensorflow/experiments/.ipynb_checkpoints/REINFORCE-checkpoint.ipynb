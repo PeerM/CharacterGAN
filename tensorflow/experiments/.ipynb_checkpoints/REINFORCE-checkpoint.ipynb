{
 "cells": [
  {
   "cell_type": "markdown",
   "metadata": {},
   "source": [
    "# REINFORCE in FNN.\n",
    "Using Bayesflow released within the Tensorflow Distribution for convenience."
   ]
  },
  {
   "cell_type": "markdown",
   "metadata": {},
   "source": [
    "## Bayesflow."
   ]
  },
  {
   "cell_type": "code",
   "execution_count": null,
   "metadata": {
    "collapsed": false
   },
   "outputs": [],
   "source": [
    "import tensorflow as tf\n",
    "from tensorflow.contrib.distributions import Categorical\n",
    "tf.reset_default_graph()\n",
    "\n",
    "hidden_dim = 4\n",
    "output_dim = 2\n",
    "num_trials = 100\n",
    "print_every = 10\n",
    "batch_size = 1\n",
    "lr = 0.1\n",
    "decay = 0.9\n",
    "\n",
    "with tf.name_scope('model'):\n",
    "    W_gen = tf.Variable(tf.random_uniform([batch_size, hidden_dim]), name='W_gen')\n",
    "    logits_gen = W_gen\n",
    "    log_probs = tf.nn.log_softmax(logits_gen)\n",
    "    \n",
    "    index = tf.contrib.bayesflow.stochastic_graph.DistributionTensor(\n",
    "        tf.contrib.distributions.Categorical, \n",
    "        logits=log_probs)\n",
    "        \n",
    "    logits = tf.one_hot(index, hidden_dim, dtype=tf.float32)\n",
    "    \n",
    "    W_dis = tf.constant([[0.2, 0.], [0.5, 0.9], [0.9, 0.1], [0.1, 1.0]], name='W_dis')\n",
    "    pred = tf.nn.softmax(tf.matmul(logits, W_dis))\n",
    "    \n",
    "    \n",
    "with tf.name_scope('reinforce'):\n",
    "    reward = pred[:, 1]\n",
    "    \n",
    "    # Exponential baseline.\n",
    "    ema = tf.train.ExponentialMovingAverage(decay = decay)\n",
    "    reduced_reward = tf.reduce_mean(reward)\n",
    "    maintain_avg_op = ema.apply([reduced_reward])\n",
    "    baseline = ema.average(reduced_reward)\n",
    "    \n",
    "    # Advantage.\n",
    "    advantage = reward - baseline\n",
    "    loss = -advantage\n",
    "\n",
    "    # Optimizer \n",
    "    optimizer = tf.train.AdamOptimizer(lr)\n",
    "    final_loss = tf.contrib.bayesflow.stochastic_graph.surrogate_loss([loss])\n",
    "    min_op = optimizer.minimize(final_loss, var_list = [W_gen])\n",
    "    \n",
    "    # Group operations.\n",
    "    train_op = tf.group(min_op, maintain_avg_op)\n",
    "    \n",
    "\n",
    "with tf.Session() as sess:\n",
    "    init_op = tf.initialize_all_variables()\n",
    "    sess.run(init_op)\n",
    "    \n",
    "    for t in xrange(num_trials):\n",
    "        sess.run(train_op)\n",
    "        if t % print_every == 0:\n",
    "            print sess.run([reward, baseline, advantage])\n",
    "\n"
   ]
  },
  {
   "cell_type": "markdown",
   "metadata": {},
   "source": [
    "## Non-Bayesflow Implementation."
   ]
  },
  {
   "cell_type": "code",
   "execution_count": null,
   "metadata": {
    "collapsed": false,
    "scrolled": true
   },
   "outputs": [],
   "source": [
    "import tensorflow as tf\n",
    "from tensorflow.contrib.distributions import Categorical\n",
    "tf.reset_default_graph()\n",
    "\n",
    "hidden_dim = 4\n",
    "output_dim = 2\n",
    "num_trials = 100\n",
    "print_every = 10\n",
    "batch_size = 1\n",
    "lr = 0.1\n",
    "decay = 0.9\n",
    "\n",
    "with tf.name_scope('model'):\n",
    "    W_gen = tf.Variable(tf.random_uniform([batch_size, hidden_dim]), name='W_gen')\n",
    "    logits_gen = W_gen\n",
    "    log_probs = tf.nn.log_softmax(logits_gen)\n",
    "    \n",
    "    categorical = Categorical(log_probs)\n",
    "    index = categorical.sample()        \n",
    "    log_prob = categorical.log_prob(index)\n",
    "    logits = tf.one_hot(index, hidden_dim, dtype=tf.float32)\n",
    "    \n",
    "    W_dis = tf.constant([[0.2, 0.], [0.5, 0.9], [0.9, 0.1], [0.1, 1.0]], name='W_dis')\n",
    "    pred = tf.nn.softmax(tf.matmul(logits, W_dis))\n",
    "    \n",
    "    \n",
    "with tf.name_scope('reinforce'):\n",
    "    reward = pred[:, 1]\n",
    "    \n",
    "    # Exponential baseline.\n",
    "    ema = tf.train.ExponentialMovingAverage(decay = decay)\n",
    "    reduced_reward = tf.reduce_mean(reward)\n",
    "    maintain_avg_op = ema.apply([reduced_reward])\n",
    "    baseline = ema.average(reduced_reward)\n",
    "    \n",
    "    # Advantage.\n",
    "    advantage = reward - baseline\n",
    "\n",
    "    # Optimizer \n",
    "    optimizer = tf.train.AdamOptimizer(lr)\n",
    "    min_op = optimizer.minimize(-log_prob * tf.stop_gradient(advantage), var_list = [W_gen])\n",
    "    train_op = tf.group(min_op, maintain_avg_op)\n",
    "    \n",
    "\n",
    "with tf.Session() as sess:\n",
    "    init_op = tf.initialize_all_variables()\n",
    "    sess.run(init_op)\n",
    "    \n",
    "    for t in xrange(num_trials):\n",
    "        sess.run(train_op)\n",
    "        if t % print_every == 0:\n",
    "            print sess.run([reward, baseline, advantage])\n"
   ]
  },
  {
   "cell_type": "markdown",
   "metadata": {},
   "source": [
    "## Maximum Achievable Reward for this Discriminator"
   ]
  },
  {
   "cell_type": "code",
   "execution_count": null,
   "metadata": {
    "collapsed": false
   },
   "outputs": [],
   "source": [
    "W_dis = tf.constant([[0.2, 0.], [0.5, 0.9], [0.9, 0.1], [0.1, 1.0]], name='W_dis')\n",
    "x = tf.constant([[1,0,0,0],[0,1,0,0],[0,0,1,0],[0,0,0,1]], dtype=tf.float32)\n",
    "\n",
    "z = tf.nn.softmax(tf.matmul(x, W_dis))\n",
    "\n",
    "with tf.Session() as sess:\n",
    "    print sess.run(z[:,1])"
   ]
  },
  {
   "cell_type": "markdown",
   "metadata": {},
   "source": [
    "# REINFORCE in RNN.\n",
    "Here we employ REINFORCE in an RNN.  As before, the reward to the Generator $G$ is simply the probability of real at each time point, $p_t$, assigned by the Discriminator $D$."
   ]
  },
  {
   "cell_type": "code",
   "execution_count": 25,
   "metadata": {
    "collapsed": true
   },
   "outputs": [],
   "source": [
    "import tensorflow as tf\n",
    "from tensorflow.contrib.distributions import Categorical\n",
    "\n",
    "rnn_gen_size = 3\n",
    "rnn_dis_size = 2\n",
    "time_steps = 5\n",
    "batch_size = 1\n",
    "num_trials = 1000\n",
    "print_every = 100\n",
    "lr = 0.1\n",
    "decay = 0.9"
   ]
  },
  {
   "cell_type": "markdown",
   "metadata": {},
   "source": [
    "## Bayesflow."
   ]
  },
  {
   "cell_type": "code",
   "execution_count": 26,
   "metadata": {
    "collapsed": false
   },
   "outputs": [
    {
     "name": "stdout",
     "output_type": "stream",
     "text": [
      "[array([ 0.44025958], dtype=float32), 0.051253248, array([ 0.38900632], dtype=float32)]\n",
      "[array([ 0.54677969], dtype=float32), 0.61269772, array([-0.06591803], dtype=float32)]\n",
      "[array([ 0.66815019], dtype=float32), 0.61670935, array([ 0.05144083], dtype=float32)]\n",
      "[array([ 0.6800552], dtype=float32), 0.61474013, array([ 0.06531507], dtype=float32)]\n",
      "[array([ 0.64466918], dtype=float32), 0.62256682, array([ 0.02210236], dtype=float32)]\n",
      "[array([ 0.67510086], dtype=float32), 0.61862373, array([ 0.05647713], dtype=float32)]\n",
      "[array([ 0.54748303], dtype=float32), 0.63039941, array([-0.08291638], dtype=float32)]\n",
      "[array([ 0.6800552], dtype=float32), 0.61282003, array([ 0.06723517], dtype=float32)]\n",
      "[array([ 0.67204022], dtype=float32), 0.6046049, array([ 0.06743532], dtype=float32)]\n",
      "[array([ 0.53704149], dtype=float32), 0.61734879, array([-0.0803073], dtype=float32)]\n"
     ]
    }
   ],
   "source": [
    "tf.reset_default_graph()\n",
    "\n",
    "# Initial indices\n",
    "batch_indices = tf.constant([[1., 0., 0.]], dtype=tf.float32)\n",
    "\n",
    "with tf.name_scope('model'):\n",
    "    cell_gen = tf.nn.rnn_cell.BasicRNNCell(rnn_gen_size)\n",
    "    cell_dis = tf.nn.rnn_cell.BasicRNNCell(rnn_dis_size)\n",
    "    state_gen = cell_gen.zero_state(batch_size, tf.float32)\n",
    "    state_dis = cell_dis.zero_state(batch_size, tf.float32)\n",
    "    \n",
    "    with tf.name_scope('rnn'):\n",
    "        predictions = []\n",
    "        \n",
    "        for t in xrange(time_steps):        \n",
    "            if t > 0:\n",
    "                tf.get_variable_scope().reuse_variables()\n",
    "        \n",
    "            with tf.variable_scope('gen'):\n",
    "                rnn_in = batch_indices\n",
    "                rnn_out, state_gen = cell_gen(rnn_in, state_gen)\n",
    "                log_probs = tf.nn.log_softmax(rnn_out)\n",
    "\n",
    "                index = tf.contrib.bayesflow.stochastic_graph.DistributionTensor(\n",
    "                    tf.contrib.distributions.Categorical,\n",
    "                    logits=log_probs)\n",
    "\n",
    "                logits = tf.one_hot(index, rnn_gen_size, dtype=tf.float32)\n",
    "                batch_indices = logits\n",
    "\n",
    "            with tf.variable_scope('dis'):\n",
    "                rnn_in = logits\n",
    "                \n",
    "                # Set the discriminator to a fixed value for debugging sake.\n",
    "                rnn_out, state_dis = cell_dis(rnn_in, state_dis)\n",
    "                pred = tf.nn.softmax(rnn_out)\n",
    "                predictions.append(pred)\n",
    "    \n",
    "    \n",
    "with tf.name_scope('reinforce'):\n",
    "    rewards = []\n",
    "    for pred in predictions:\n",
    "        rewards.append(pred[:, 1])\n",
    "    \n",
    "    # Exponential baseline.\n",
    "    ema = tf.train.ExponentialMovingAverage(decay = decay)\n",
    "    rewards_tf = tf.pack(rewards)\n",
    "    reduced_reward = tf.reduce_mean(rewards_tf)\n",
    "    maintain_avg_op = ema.apply([reduced_reward])\n",
    "    baseline = ema.average(reduced_reward)\n",
    "    \n",
    "    # Advantage.\n",
    "    loss = []\n",
    "    for reward in rewards:\n",
    "        advantage = reward - baseline\n",
    "        loss.append(-advantage)\n",
    "\n",
    "    # Optimizer \n",
    "    optimizer = tf.train.AdamOptimizer(lr)\n",
    "    final_loss = tf.contrib.bayesflow.stochastic_graph.surrogate_loss(loss)\n",
    "    gen_vars = [v for v in tf.trainable_variables() if v.op.name.startswith('gen')]\n",
    "    min_op = optimizer.minimize(final_loss, var_list = gen_vars)\n",
    "    \n",
    "    # Group operations.\n",
    "    train_op = tf.group(min_op, maintain_avg_op)\n",
    "    \n",
    "    \n",
    "with tf.Session() as sess:\n",
    "    init_op = tf.initialize_all_variables()\n",
    "    sess.run(init_op)\n",
    "    \n",
    "    for t in xrange(num_trials):\n",
    "        sess.run(train_op)\n",
    "        if t % print_every == 0:\n",
    "            print sess.run([reward, baseline, advantage])   "
   ]
  },
  {
   "cell_type": "markdown",
   "metadata": {},
   "source": [
    "## Non-Bayesflow Implementation."
   ]
  },
  {
   "cell_type": "code",
   "execution_count": 29,
   "metadata": {
    "collapsed": false
   },
   "outputs": [
    {
     "name": "stdout",
     "output_type": "stream",
     "text": [
      "[array([ 0.37493035], dtype=float32), 0.048649948, array([ 0.32628042], dtype=float32)]\n",
      "[array([ 0.59426779], dtype=float32), 0.56523156, array([ 0.02903622], dtype=float32)]\n",
      "[array([ 0.59582311], dtype=float32), 0.55584794, array([ 0.03997517], dtype=float32)]\n",
      "[array([ 0.59528738], dtype=float32), 0.55456829, array([ 0.04071909], dtype=float32)]\n",
      "[array([ 0.62032169], dtype=float32), 0.57161206, array([ 0.04870963], dtype=float32)]\n",
      "[array([ 0.5996086], dtype=float32), 0.55554104, array([ 0.04406756], dtype=float32)]\n",
      "[array([ 0.63542444], dtype=float32), 0.55216593, array([ 0.08325851], dtype=float32)]\n",
      "[array([ 0.35103628], dtype=float32), 0.55592847, array([-0.20489219], dtype=float32)]\n",
      "[array([ 0.5957855], dtype=float32), 0.56596732, array([ 0.02981818], dtype=float32)]\n",
      "[array([ 0.61855721], dtype=float32), 0.56022847, array([ 0.05832875], dtype=float32)]\n"
     ]
    }
   ],
   "source": [
    "tf.reset_default_graph()\n",
    "\n",
    "# Initial indices\n",
    "batch_indices = tf.constant([[1., 0., 0.]], dtype=tf.float32)\n",
    "\n",
    "with tf.name_scope('model'):\n",
    "    cell_gen = tf.nn.rnn_cell.BasicRNNCell(rnn_gen_size)\n",
    "    state_gen = cell_gen.zero_state(batch_size, tf.float32)\n",
    "    cell_dis = tf.nn.rnn_cell.BasicRNNCell(rnn_dis_size)\n",
    "    state_dis = cell_dis.zero_state(batch_size, tf.float32)\n",
    "\n",
    "    with tf.name_scope('rnn'):\n",
    "        predictions, log_probs = [], []\n",
    "        \n",
    "        for t in xrange(time_steps):        \n",
    "            if t > 0:\n",
    "                tf.get_variable_scope().reuse_variables()\n",
    "        \n",
    "            with tf.variable_scope('gen'):\n",
    "                rnn_in = batch_indices\n",
    "                rnn_out, state_gen = cell_gen(rnn_in, state_gen)\n",
    "                log_probs_gen = tf.nn.log_softmax(rnn_out)\n",
    "            \n",
    "                categorical = Categorical(log_probs_gen)\n",
    "                index = categorical.sample()        \n",
    "                log_prob = categorical.log_prob(index)\n",
    "                log_probs.append(log_prob)\n",
    "                \n",
    "                logits = tf.one_hot(index, rnn_gen_size, dtype=tf.float32)\n",
    "                batch_indices = logits\n",
    "                \n",
    "            with tf.variable_scope('dis'):\n",
    "                rnn_in = logits\n",
    "    \n",
    "                # Set the discriminator to a fixed value for debugging sake.\n",
    "                rnn_out, state_dis = cell_dis(rnn_in, state_dis)\n",
    "                pred = tf.nn.softmax(rnn_out)\n",
    "                predictions.append(pred)\n",
    "    \n",
    "    \n",
    "with tf.name_scope('reinforce'):\n",
    "    rewards = []\n",
    "    for pred in predictions:\n",
    "        rewards.append(pred[:, 1])\n",
    "    \n",
    "    # Exponential baseline.\n",
    "    ema = tf.train.ExponentialMovingAverage(decay = decay)\n",
    "    rewards_tf = tf.pack(rewards)\n",
    "    reduced_reward = tf.reduce_mean(rewards_tf)\n",
    "    maintain_avg_op = ema.apply([reduced_reward])\n",
    "    baseline = ema.average(reduced_reward)\n",
    "    \n",
    "    # Advantage.\n",
    "    final_loss = 0.\n",
    "    for reward, log_prob in zip(rewards, log_probs):\n",
    "        advantage = reward - baseline        \n",
    "        final_loss += -log_prob * tf.stop_gradient(advantage)\n",
    "\n",
    "    # Optimizer \n",
    "    optimizer = tf.train.AdamOptimizer(lr)\n",
    "    gen_vars = [v for v in tf.trainable_variables() if v.op.name.startswith('gen')]\n",
    "    min_op = optimizer.minimize(final_loss, var_list = gen_vars)\n",
    "    \n",
    "    # Group operations.\n",
    "    train_op = tf.group(min_op, maintain_avg_op)\n",
    "    \n",
    "    \n",
    "with tf.Session() as sess:\n",
    "    init_op = tf.initialize_all_variables()\n",
    "    sess.run(init_op)\n",
    "    \n",
    "    for t in xrange(num_trials):\n",
    "        sess.run(train_op)\n",
    "        if t % print_every == 0:\n",
    "            print sess.run([reward, baseline, advantage])   "
   ]
  }
 ],
 "metadata": {
  "kernelspec": {
   "display_name": "Python 2",
   "language": "python",
   "name": "python2"
  },
  "language_info": {
   "codemirror_mode": {
    "name": "ipython",
    "version": 2
   },
   "file_extension": ".py",
   "mimetype": "text/x-python",
   "name": "python",
   "nbconvert_exporter": "python",
   "pygments_lexer": "ipython2",
   "version": "2.7.6"
  }
 },
 "nbformat": 4,
 "nbformat_minor": 0
}
