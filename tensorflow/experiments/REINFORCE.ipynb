{
 "cells": [
  {
   "cell_type": "markdown",
   "metadata": {},
   "source": [
    "# REINFORCE."
   ]
  },
  {
   "cell_type": "code",
   "execution_count": 65,
   "metadata": {
    "collapsed": false
   },
   "outputs": [
    {
     "name": "stdout",
     "output_type": "stream",
     "text": [
      "[array([ 0.31002551], dtype=float32), 0.071094967]\n",
      "[array([ 0.71094948], dtype=float32), 0.38931423]\n",
      "[array([ 0.71094948], dtype=float32), 0.52862465]\n",
      "[array([ 0.71094948], dtype=float32), 0.64254427]\n",
      "[array([ 0.45016599], dtype=float32), 0.68709809]\n",
      "[array([ 0.71094948], dtype=float32), 0.66254067]\n",
      "[array([ 0.71094948], dtype=float32), 0.66576743]\n",
      "[array([ 0.71094948], dtype=float32), 0.66810596]\n",
      "[array([ 0.45016599], dtype=float32), 0.66274172]\n",
      "[array([ 0.71094948], dtype=float32), 0.69414043]\n"
     ]
    }
   ],
   "source": [
    "import tensorflow as tf\n",
    "from tensorflow.contrib.distributions import Categorical\n",
    "tf.reset_default_graph()\n",
    "\n",
    "hidden_dim = 4\n",
    "output_dim = 2\n",
    "num_trials = 100\n",
    "print_every = 10\n",
    "batch_size = 1\n",
    "lr = 0.1\n",
    "decay = 0.9\n",
    "\n",
    "with tf.name_scope('model'):\n",
    "    W_gen = tf.Variable(tf.random_uniform([batch_size, hidden_dim]), name='W_gen')\n",
    "    logits_gen = W_gen\n",
    "    log_probs = tf.nn.log_softmax(logits_gen)\n",
    "    \n",
    "    categorical = Categorical(log_probs)\n",
    "    index = categorical.sample()\n",
    "    log_prob = categorical.log_prob(index)\n",
    "    logits = tf.one_hot(index, hidden_dim, dtype=tf.float32)\n",
    "    \n",
    "    W_dis = tf.constant([[0.2, 0.], [0.5, 0.9], [0.9, 0.1], [0.1, 1.0]], name='W_dis')\n",
    "#     W_dis = tf.Variable(tf.random_uniform([hidden_dim, output_dim]), name='W_dis')\n",
    "    pred = tf.nn.softmax(tf.matmul(logits, W_dis))\n",
    "    \n",
    "    \n",
    "with tf.name_scope('reinforce'):\n",
    "    reward = pred[:, 1]\n",
    "    \n",
    "    # Exponential baseline.\n",
    "    ema = tf.train.ExponentialMovingAverage(decay = decay)\n",
    "    reduced_reward = tf.reduce_mean(reward)\n",
    "    maintain_avg_op = ema.apply([reduced_reward])\n",
    "    baseline = ema.average(reduced_reward)\n",
    "    \n",
    "    # Advantage.\n",
    "    advantage = reduced_reward - baseline\n",
    "    \n",
    "    # Optimizer \n",
    "    optimizer = tf.train.AdamOptimizer(lr)\n",
    "    min_op = optimizer.minimize(-log_prob * tf.stop_gradient(advantage), var_list = [W_gen])\n",
    "    train_op = tf.group(min_op, maintain_avg_op)\n",
    "    \n",
    "\n",
    "with tf.Session() as sess:\n",
    "    init_op = tf.initialize_all_variables()\n",
    "    sess.run(init_op)\n",
    "    \n",
    "    for t in xrange(num_trials):\n",
    "        sess.run(train_op)\n",
    "        if t % print_every == 0:\n",
    "            print sess.run([reward, baseline])\n",
    "\n"
   ]
  },
  {
   "cell_type": "code",
   "execution_count": 66,
   "metadata": {
    "collapsed": false
   },
   "outputs": [
    {
     "name": "stdout",
     "output_type": "stream",
     "text": [
      "[ 0.45016599  0.59868765  0.31002551  0.71094948]\n"
     ]
    }
   ],
   "source": [
    "W_dis = tf.constant([[0.2, 0.], [0.5, 0.9], [0.9, 0.1], [0.1, 1.0]], name='W_dis')\n",
    "x = tf.constant([[1,0,0,0],[0,1,0,0],[0,0,1,0],[0,0,0,1]], dtype=tf.float32)\n",
    "\n",
    "z = tf.nn.softmax(tf.matmul(x, W_dis))\n",
    "\n",
    "with tf.Session() as sess:\n",
    "    print sess.run(z[:,1])"
   ]
  }
 ],
 "metadata": {
  "kernelspec": {
   "display_name": "Python 2",
   "language": "python",
   "name": "python2"
  },
  "language_info": {
   "codemirror_mode": {
    "name": "ipython",
    "version": 2
   },
   "file_extension": ".py",
   "mimetype": "text/x-python",
   "name": "python",
   "nbconvert_exporter": "python",
   "pygments_lexer": "ipython2",
   "version": "2.7.6"
  }
 },
 "nbformat": 4,
 "nbformat_minor": 0
}
