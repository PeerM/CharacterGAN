{
 "cells": [
  {
   "cell_type": "markdown",
   "metadata": {},
   "source": [
    "# REINFORCE in FNN.\n",
    "Using Bayesflow released within the Tensorflow Distribution for convenience."
   ]
  },
  {
   "cell_type": "markdown",
   "metadata": {},
   "source": [
    "## Bayesflow."
   ]
  },
  {
   "cell_type": "code",
   "execution_count": null,
   "metadata": {
    "collapsed": false
   },
   "outputs": [],
   "source": [
    "import tensorflow as tf\n",
    "from tensorflow.contrib.distributions import Categorical\n",
    "tf.reset_default_graph()\n",
    "\n",
    "hidden_dim = 4\n",
    "output_dim = 2\n",
    "num_trials = 100\n",
    "print_every = 10\n",
    "batch_size = 1\n",
    "lr = 0.1\n",
    "decay = 0.9\n",
    "\n",
    "with tf.name_scope('model'):\n",
    "    W_gen = tf.Variable(tf.random_uniform([batch_size, hidden_dim]), name='W_gen')\n",
    "    logits_gen = W_gen\n",
    "    log_probs = tf.nn.log_softmax(logits_gen)\n",
    "    \n",
    "    index = tf.contrib.bayesflow.stochastic_graph.DistributionTensor(\n",
    "        tf.contrib.distributions.Categorical, \n",
    "        logits=log_probs)\n",
    "        \n",
    "    logits = tf.one_hot(index, hidden_dim, dtype=tf.float32)\n",
    "    \n",
    "    W_dis = tf.constant([[0.2, 0.], [0.5, 0.9], [0.9, 0.1], [0.1, 1.0]], name='W_dis')\n",
    "    pred = tf.nn.softmax(tf.matmul(logits, W_dis))\n",
    "    \n",
    "    \n",
    "with tf.name_scope('reinforce'):\n",
    "    reward = pred[:, 1]\n",
    "    \n",
    "    # Exponential baseline.\n",
    "    ema = tf.train.ExponentialMovingAverage(decay = decay)\n",
    "    reduced_reward = tf.reduce_mean(reward)\n",
    "    maintain_avg_op = ema.apply([reduced_reward])\n",
    "    baseline = ema.average(reduced_reward)\n",
    "    \n",
    "    # Advantage.\n",
    "    advantage = reward - baseline\n",
    "    loss = -advantage\n",
    "\n",
    "    # Optimizer \n",
    "    optimizer = tf.train.AdamOptimizer(lr)\n",
    "    final_loss = tf.contrib.bayesflow.stochastic_graph.surrogate_loss([loss])\n",
    "    min_op = optimizer.minimize(final_loss, var_list = [W_gen])\n",
    "    \n",
    "    # Group operations.\n",
    "    train_op = tf.group(min_op, maintain_avg_op)\n",
    "    \n",
    "\n",
    "with tf.Session() as sess:\n",
    "    init_op = tf.initialize_all_variables()\n",
    "    sess.run(init_op)\n",
    "    \n",
    "    for t in xrange(num_trials):\n",
    "        sess.run(train_op)\n",
    "        if t % print_every == 0:\n",
    "            print sess.run([reward, baseline, advantage])\n",
    "\n"
   ]
  },
  {
   "cell_type": "markdown",
   "metadata": {},
   "source": [
    "## Non-Bayesflow Implementation."
   ]
  },
  {
   "cell_type": "code",
   "execution_count": null,
   "metadata": {
    "collapsed": false,
    "scrolled": true
   },
   "outputs": [],
   "source": [
    "import tensorflow as tf\n",
    "from tensorflow.contrib.distributions import Categorical\n",
    "tf.reset_default_graph()\n",
    "\n",
    "hidden_dim = 4\n",
    "output_dim = 2\n",
    "num_trials = 100\n",
    "print_every = 10\n",
    "batch_size = 1\n",
    "lr = 0.1\n",
    "decay = 0.9\n",
    "\n",
    "with tf.name_scope('model'):\n",
    "    W_gen = tf.Variable(tf.random_uniform([batch_size, hidden_dim]), name='W_gen')\n",
    "    logits_gen = W_gen\n",
    "    log_probs = tf.nn.log_softmax(logits_gen)\n",
    "    \n",
    "    categorical = Categorical(log_probs)\n",
    "    index = categorical.sample()        \n",
    "    log_prob = categorical.log_prob(index)\n",
    "    logits = tf.one_hot(index, hidden_dim, dtype=tf.float32)\n",
    "    \n",
    "    W_dis = tf.constant([[0.2, 0.], [0.5, 0.9], [0.9, 0.1], [0.1, 1.0]], name='W_dis')\n",
    "    pred = tf.nn.softmax(tf.matmul(logits, W_dis))\n",
    "    \n",
    "    \n",
    "with tf.name_scope('reinforce'):\n",
    "    reward = pred[:, 1]\n",
    "    \n",
    "    # Exponential baseline.\n",
    "    ema = tf.train.ExponentialMovingAverage(decay = decay)\n",
    "    reduced_reward = tf.reduce_mean(reward)\n",
    "    maintain_avg_op = ema.apply([reduced_reward])\n",
    "    baseline = ema.average(reduced_reward)\n",
    "    \n",
    "    # Advantage.\n",
    "    advantage = reward - baseline\n",
    "\n",
    "    # Optimizer \n",
    "    optimizer = tf.train.AdamOptimizer(lr)\n",
    "    min_op = optimizer.minimize(-log_prob * tf.stop_gradient(advantage), var_list = [W_gen])\n",
    "    train_op = tf.group(min_op, maintain_avg_op)\n",
    "    \n",
    "\n",
    "with tf.Session() as sess:\n",
    "    init_op = tf.initialize_all_variables()\n",
    "    sess.run(init_op)\n",
    "    \n",
    "    for t in xrange(num_trials):\n",
    "        sess.run(train_op)\n",
    "        if t % print_every == 0:\n",
    "            print sess.run([reward, baseline, advantage])\n"
   ]
  },
  {
   "cell_type": "markdown",
   "metadata": {},
   "source": [
    "## Maximum Achievable Reward for this Discriminator"
   ]
  },
  {
   "cell_type": "code",
   "execution_count": null,
   "metadata": {
    "collapsed": false
   },
   "outputs": [],
   "source": [
    "W_dis = tf.constant([[0.2, 0.], [0.5, 0.9], [0.9, 0.1], [0.1, 1.0]], name='W_dis')\n",
    "x = tf.constant([[1,0,0,0],[0,1,0,0],[0,0,1,0],[0,0,0,1]], dtype=tf.float32)\n",
    "\n",
    "z = tf.nn.softmax(tf.matmul(x, W_dis))\n",
    "\n",
    "with tf.Session() as sess:\n",
    "    print sess.run(z[:,1])"
   ]
  },
  {
   "cell_type": "markdown",
   "metadata": {},
   "source": [
    "# REINFORCE in RNN.\n",
    "Here we employ REINFORCE in an RNN.  As before, the reward to the Generator $G$ is simply the probability of real at each time point, $p_t$, assigned by the Discriminator $D$."
   ]
  },
  {
   "cell_type": "code",
   "execution_count": 25,
   "metadata": {
    "collapsed": true
   },
   "outputs": [],
   "source": [
    "import tensorflow as tf\n",
    "from tensorflow.contrib.distributions import Categorical\n",
    "\n",
    "rnn_gen_size = 3\n",
    "rnn_dis_size = 2\n",
    "time_steps = 5\n",
    "batch_size = 1\n",
    "num_trials = 1000\n",
    "print_every = 100\n",
    "lr = 0.1\n",
    "decay = 0.9"
   ]
  },
  {
   "cell_type": "markdown",
   "metadata": {},
   "source": [
    "## Bayesflow."
   ]
  },
  {
   "cell_type": "code",
   "execution_count": 31,
   "metadata": {
    "collapsed": false
   },
   "outputs": [
    {
     "name": "stdout",
     "output_type": "stream",
     "text": [
      "[array([ 0.47473434], dtype=float32), 0.049860723, array([ 0.42487362], dtype=float32)]\n",
      "[array([ 0.45302168], dtype=float32), 0.59107482, array([-0.13805315], dtype=float32)]\n",
      "[array([ 0.6291669], dtype=float32), 0.61279589, array([ 0.01637101], dtype=float32)]\n",
      "[array([ 0.47685787], dtype=float32), 0.62124133, array([-0.14438346], dtype=float32)]\n",
      "[array([ 0.46333966], dtype=float32), 0.62026137, array([-0.15692171], dtype=float32)]\n",
      "[array([ 0.74023449], dtype=float32), 0.61293489, array([ 0.12729961], dtype=float32)]\n",
      "[array([ 0.63460129], dtype=float32), 0.62227404, array([ 0.01232725], dtype=float32)]\n",
      "[array([ 0.65993804], dtype=float32), 0.61478722, array([ 0.04515082], dtype=float32)]\n",
      "[array([ 0.63460129], dtype=float32), 0.62003702, array([ 0.01456428], dtype=float32)]\n",
      "[array([ 0.65993804], dtype=float32), 0.6166715, array([ 0.04326653], dtype=float32)]\n"
     ]
    }
   ],
   "source": [
    "tf.reset_default_graph()\n",
    "\n",
    "# Initial indices\n",
    "batch_indices = tf.constant([[1., 0., 0.]], dtype=tf.float32)\n",
    "\n",
    "with tf.name_scope('model'):\n",
    "    cell_gen = tf.nn.rnn_cell.BasicRNNCell(rnn_gen_size)\n",
    "    cell_dis = tf.nn.rnn_cell.BasicRNNCell(rnn_dis_size)\n",
    "    state_gen = cell_gen.zero_state(batch_size, tf.float32)\n",
    "    state_dis = cell_dis.zero_state(batch_size, tf.float32)\n",
    "    \n",
    "    with tf.name_scope('rnn'):\n",
    "        predictions = []\n",
    "        \n",
    "        for t in xrange(time_steps):        \n",
    "            if t > 0:\n",
    "                tf.get_variable_scope().reuse_variables()\n",
    "        \n",
    "            with tf.variable_scope('gen'):\n",
    "                rnn_in = batch_indices\n",
    "                rnn_out, state_gen = cell_gen(rnn_in, state_gen)\n",
    "                log_probs = tf.nn.log_softmax(rnn_out)\n",
    "\n",
    "                index = tf.contrib.bayesflow.stochastic_graph.DistributionTensor(\n",
    "                    tf.contrib.distributions.Categorical,\n",
    "                    logits=log_probs)\n",
    "                batch_indices = tf.one_hot(index, rnn_gen_size, dtype=tf.float32)\n",
    "\n",
    "            with tf.variable_scope('dis'):\n",
    "                rnn_in = batch_indices\n",
    "                \n",
    "                # Set the discriminator to a fixed value for debugging sake.\n",
    "                rnn_out, state_dis = cell_dis(rnn_in, state_dis)\n",
    "                pred = tf.nn.softmax(rnn_out)\n",
    "                predictions.append(pred)\n",
    "    \n",
    "    \n",
    "with tf.name_scope('reinforce'):\n",
    "    rewards = []\n",
    "    for pred in predictions:\n",
    "        rewards.append(pred[:, 1])\n",
    "    \n",
    "    # Exponential baseline.\n",
    "    ema = tf.train.ExponentialMovingAverage(decay = decay)\n",
    "    rewards_tf = tf.pack(rewards)\n",
    "    reduced_reward = tf.reduce_mean(rewards_tf)\n",
    "    maintain_avg_op = ema.apply([reduced_reward])\n",
    "    baseline = ema.average(reduced_reward)\n",
    "    \n",
    "    # Advantage.\n",
    "    loss = []\n",
    "    for reward in rewards:\n",
    "        advantage = reward - baseline\n",
    "        loss.append(-advantage)\n",
    "\n",
    "    # Optimizer \n",
    "    optimizer = tf.train.AdamOptimizer(lr)\n",
    "    final_loss = tf.contrib.bayesflow.stochastic_graph.surrogate_loss(loss)\n",
    "    gen_vars = [v for v in tf.trainable_variables() if v.op.name.startswith('gen')]\n",
    "    min_op = optimizer.minimize(final_loss, var_list = gen_vars)\n",
    "    \n",
    "    # Group operations.\n",
    "    train_op = tf.group(min_op, maintain_avg_op)\n",
    "    \n",
    "    \n",
    "with tf.Session() as sess:\n",
    "    init_op = tf.initialize_all_variables()\n",
    "    sess.run(init_op)\n",
    "    \n",
    "    for t in xrange(num_trials):\n",
    "        sess.run(train_op)\n",
    "        if t % print_every == 0:\n",
    "            print sess.run([reward, baseline, advantage])   "
   ]
  },
  {
   "cell_type": "markdown",
   "metadata": {},
   "source": [
    "## Non-Bayesflow Implementation."
   ]
  },
  {
   "cell_type": "code",
   "execution_count": 32,
   "metadata": {
    "collapsed": false
   },
   "outputs": [
    {
     "name": "stdout",
     "output_type": "stream",
     "text": [
      "[array([ 0.4540458], dtype=float32), 0.056483652, array([ 0.39756215], dtype=float32)]\n",
      "[array([ 0.63507384], dtype=float32), 0.6145277, array([ 0.02054614], dtype=float32)]\n",
      "[array([ 0.46550792], dtype=float32), 0.62330419, array([-0.15779626], dtype=float32)]\n",
      "[array([ 0.61772895], dtype=float32), 0.62210727, array([-0.00437832], dtype=float32)]\n",
      "[array([ 0.61772895], dtype=float32), 0.62233084, array([-0.0046019], dtype=float32)]\n",
      "[array([ 0.61772895], dtype=float32), 0.62022167, array([-0.00249273], dtype=float32)]\n",
      "[array([ 0.48888925], dtype=float32), 0.61998826, array([-0.13109902], dtype=float32)]\n",
      "[array([ 0.5428347], dtype=float32), 0.62464905, array([-0.08181435], dtype=float32)]\n",
      "[array([ 0.68850166], dtype=float32), 0.61919284, array([ 0.06930882], dtype=float32)]\n",
      "[array([ 0.61772895], dtype=float32), 0.62098986, array([-0.00326091], dtype=float32)]\n"
     ]
    }
   ],
   "source": [
    "tf.reset_default_graph()\n",
    "\n",
    "# Initial indices\n",
    "batch_indices = tf.constant([[1., 0., 0.]], dtype=tf.float32)\n",
    "\n",
    "with tf.name_scope('model'):\n",
    "    cell_gen = tf.nn.rnn_cell.BasicRNNCell(rnn_gen_size)\n",
    "    state_gen = cell_gen.zero_state(batch_size, tf.float32)\n",
    "    cell_dis = tf.nn.rnn_cell.BasicRNNCell(rnn_dis_size)\n",
    "    state_dis = cell_dis.zero_state(batch_size, tf.float32)\n",
    "\n",
    "    with tf.name_scope('rnn'):\n",
    "        predictions, log_probs = [], []\n",
    "        \n",
    "        for t in xrange(time_steps):        \n",
    "            if t > 0:\n",
    "                tf.get_variable_scope().reuse_variables()\n",
    "        \n",
    "            with tf.variable_scope('gen'):\n",
    "                rnn_in = batch_indices\n",
    "                rnn_out, state_gen = cell_gen(rnn_in, state_gen)\n",
    "                log_probs_gen = tf.nn.log_softmax(rnn_out)\n",
    "            \n",
    "                categorical = Categorical(log_probs_gen)\n",
    "                index = categorical.sample()        \n",
    "                log_prob = categorical.log_prob(index)\n",
    "                log_probs.append(log_prob)\n",
    "                \n",
    "                batch_indices = tf.one_hot(index, rnn_gen_size, dtype=tf.float32)\n",
    "                \n",
    "            with tf.variable_scope('dis'):\n",
    "                rnn_in = batch_indices\n",
    "    \n",
    "                # Set the discriminator to a fixed value for debugging sake.\n",
    "                rnn_out, state_dis = cell_dis(rnn_in, state_dis)\n",
    "                pred = tf.nn.softmax(rnn_out)\n",
    "                predictions.append(pred)\n",
    "    \n",
    "    \n",
    "with tf.name_scope('reinforce'):\n",
    "    rewards = []\n",
    "    for pred in predictions:\n",
    "        rewards.append(pred[:, 1])\n",
    "    \n",
    "    # Exponential baseline.\n",
    "    ema = tf.train.ExponentialMovingAverage(decay = decay)\n",
    "    rewards_tf = tf.pack(rewards)\n",
    "    reduced_reward = tf.reduce_mean(rewards_tf)\n",
    "    maintain_avg_op = ema.apply([reduced_reward])\n",
    "    baseline = ema.average(reduced_reward)\n",
    "    \n",
    "    # Advantage.\n",
    "    final_loss = 0.\n",
    "    for reward, log_prob in zip(rewards, log_probs):\n",
    "        advantage = reward - baseline        \n",
    "        final_loss += -log_prob * tf.stop_gradient(advantage)\n",
    "\n",
    "    # Optimizer \n",
    "    optimizer = tf.train.AdamOptimizer(lr)\n",
    "    gen_vars = [v for v in tf.trainable_variables() if v.op.name.startswith('gen')]\n",
    "    min_op = optimizer.minimize(final_loss, var_list = gen_vars)\n",
    "    \n",
    "    # Group operations.\n",
    "    train_op = tf.group(min_op, maintain_avg_op)\n",
    "    \n",
    "    \n",
    "with tf.Session() as sess:\n",
    "    init_op = tf.initialize_all_variables()\n",
    "    sess.run(init_op)\n",
    "    \n",
    "    for t in xrange(num_trials):\n",
    "        sess.run(train_op)\n",
    "        if t % print_every == 0:\n",
    "            print sess.run([reward, baseline, advantage])   "
   ]
  }
 ],
 "metadata": {
  "kernelspec": {
   "display_name": "Python 2",
   "language": "python",
   "name": "python2"
  },
  "language_info": {
   "codemirror_mode": {
    "name": "ipython",
    "version": 2
   },
   "file_extension": ".py",
   "mimetype": "text/x-python",
   "name": "python",
   "nbconvert_exporter": "python",
   "pygments_lexer": "ipython2",
   "version": "2.7.6"
  }
 },
 "nbformat": 4,
 "nbformat_minor": 0
}
