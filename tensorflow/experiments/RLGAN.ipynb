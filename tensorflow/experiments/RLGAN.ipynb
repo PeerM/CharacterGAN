{
 "cells": [
  {
   "cell_type": "markdown",
   "metadata": {},
   "source": [
    "# Reinforcement Learning GAN\n",
    "Employ REINFORCE for training the Generator in a GAN formuluation.  As before, the reward to the Generator $G$ is simply the probability of real at each time point, $p_t$, assigned by the Discriminator $D$.\n",
    "\n",
    "Classic GAN minimization objective,\n",
    "\n",
    "$$\\text{max}_{G_{\\theta}} \\text{min}_{D_{\\theta}} \\left[ \\text{log}(D(x)) + \\text{log}(1. - D(G(z)) \\right]$$"
   ]
  },
  {
   "cell_type": "code",
   "execution_count": 33,
   "metadata": {
    "collapsed": false
   },
   "outputs": [],
   "source": [
    "import tensorflow as tf\n",
    "import numpy as np\n",
    "from tensorflow.contrib.distributions import Categorical\n",
    "\n",
    "rnn_gen_size = 16\n",
    "rnn_dis_size = 16\n",
    "vocab_dim = 3\n",
    "time_steps = 6\n",
    "batch_size = 2\n",
    "num_iterations = 500\n",
    "gen_iterations = 1\n",
    "dis_iterations = 1\n",
    "print_every = 50\n",
    "lr = 0.01\n",
    "decay = 0.99"
   ]
  },
  {
   "cell_type": "markdown",
   "metadata": {},
   "source": [
    "## Generator and Discriminator.\n",
    "Advantage function without a baseline may perform better for this task.  The hypothesis is that the pace of $D$'s learning can outpace the $G$'s learning.  So for instance, if the predictions from $D$ at a given time step, which we equate to reward $r_t$, decreases rapidly to 0, then the exponential moving average baseline will renormalize and leave little residual reward for a signal."
   ]
  },
  {
   "cell_type": "code",
   "execution_count": 15,
   "metadata": {
    "collapsed": true
   },
   "outputs": [],
   "source": [
    "def score_function_with_mean_baseline(dt, val, rewards, decay = 0.99):\n",
    "    '''Create a specific score function to pass to DistributionTensors'''\n",
    "    reward = tf.reduce_mean(tf.add_n(rewards))\n",
    "    ema = tf.train.ExponentialMovingAverage(decay)\n",
    "    update_op = ema.apply([reward])\n",
    "    baseline = ema.average(reward)\n",
    "#     advantage = tf.stop_gradient(reward - baseline)\n",
    "    advantage = tf.stop_gradient(reward)\n",
    "    with tf.control_dependencies([update_op]):\n",
    "        return dt.distribution.log_prob(val) * advantage\n",
    "\n",
    "\n",
    "def generator(reuse=False):\n",
    "    '''Define the Generator graph.'''\n",
    "    # TODO: Generalize for random input.\n",
    "    # batch_indices = gen_z\n",
    "    init_input = tf.zeros([batch_size, vocab_dim])\n",
    "    \n",
    "    with tf.variable_scope('gen', reuse=reuse):\n",
    "        cell_gen = tf.nn.rnn_cell.BasicRNNCell(rnn_gen_size)\n",
    "        state_gen = cell_gen.zero_state(batch_size, tf.float32)\n",
    "\n",
    "        with tf.variable_scope('rnn') as vs:\n",
    "            sequence = []\n",
    "        \n",
    "            one_hot = init_input\n",
    "            for t in xrange(time_steps):        \n",
    "                if t > 0:\n",
    "                    tf.get_variable_scope().reuse_variables()\n",
    "                    \n",
    "                rnn_in = one_hot\n",
    "                rnn_out, state_gen = cell_gen(rnn_in, state_gen)\n",
    "                \n",
    "                log_probs = tf.nn.log_softmax(\n",
    "                    tf.contrib.layers.linear(rnn_out, vocab_dim, scope=vs))\n",
    "\n",
    "                index = tf.contrib.bayesflow.stochastic_graph.DistributionTensor(\n",
    "                    tf.contrib.distributions.Categorical,\n",
    "                    logits=log_probs,\n",
    "                    loss_fn=score_function_with_mean_baseline)\n",
    "                one_hot = tf.one_hot(index, vocab_dim, dtype=tf.float32)\n",
    "                sequence.append(one_hot)\n",
    "    return tf.pack(sequence, axis=1)\n",
    "\n",
    "\n",
    "def discriminator(sequence, reuse=False):\n",
    "    '''Define the Discriminator graph.'''\n",
    "    sequence = tf.unpack(sequence, axis=1)\n",
    "    with tf.variable_scope('dis', reuse=reuse):    \n",
    "        cell_dis = tf.nn.rnn_cell.BasicRNNCell(rnn_dis_size)\n",
    "        state_dis = cell_dis.zero_state(batch_size, tf.float32)\n",
    "\n",
    "        with tf.variable_scope('rnn') as vs:\n",
    "            predictions = []\n",
    "\n",
    "            for t, inp in enumerate(sequence):\n",
    "                rnn_in = inp\n",
    "                if t > 0:\n",
    "                    tf.get_variable_scope().reuse_variables()\n",
    "\n",
    "                rnn_out, state_dis = cell_dis(rnn_in, state_dis)\n",
    "                pred = tf.nn.sigmoid(tf.contrib.layers.linear(rnn_out, 1, scope=vs))\n",
    "                predictions.append(pred)\n",
    "    return tf.pack(predictions, axis=1)"
   ]
  },
  {
   "cell_type": "markdown",
   "metadata": {},
   "source": [
    "## Losses for Models.\n",
    "The reward, which is the taken from the probability of real at each time step, is rescaled to a positive and negative range.\n",
    "\n",
    "Specifically, the probability of real at each time step is $p_t \\in [0,1]$, which we could equate to the reward at each time step $r_t$. We remap this to have rewards in the positive to negative range,\n",
    "\n",
    "$$r_t \\mapsto \\left(r_t - 0.5\\right) \\times f$$\n",
    "\n",
    "where $f$ is some scale factor. "
   ]
  },
  {
   "cell_type": "code",
   "execution_count": 31,
   "metadata": {
    "collapsed": true
   },
   "outputs": [],
   "source": [
    "def generator_rewards(predictions):\n",
    "    '''Generator rewards based on Discriminator predictions.'''\n",
    "    predictions = tf.unpack(tf.squeeze(predictions, [2]), axis=1)\n",
    "    \n",
    "    # Modify predictions to have a larger dynamic range.\n",
    "    predictions = [(p - 0.5) * 10. for p in predictions]\n",
    "    final_reward = tf.contrib.bayesflow.stochastic_graph.surrogate_loss(predictions)\n",
    "    return final_reward\n",
    "    \n",
    "        \n",
    "def discriminator_loss(predictions, labels):\n",
    "    '''Discriminator loss based on predictions and labels'''\n",
    "    loss = tf.contrib.losses.log_loss(tf.squeeze(predictions, [2]), labels)\n",
    "    final_loss = tf.reduce_sum(loss) / batch_size / time_steps\n",
    "    return final_loss"
   ]
  },
  {
   "cell_type": "markdown",
   "metadata": {},
   "source": [
    "## Generative Adversarial Networks Training."
   ]
  },
  {
   "cell_type": "code",
   "execution_count": 36,
   "metadata": {
    "collapsed": false
   },
   "outputs": [
    {
     "name": "stdout",
     "output_type": "stream",
     "text": [
      "num_iterations 500\n",
      "Dis loss: 0.117277\n",
      "Gen loss: -9.60725\n",
      "Dis loss: 0.093221\n",
      "Gen loss: -13.1313\n",
      "Dis loss: 0.109244\n",
      "Gen loss: 1.08446\n",
      "Dis loss: 0.0611211\n",
      "Gen loss: 109.48\n",
      "Dis loss: 0.0436844\n",
      "Gen loss: -13.6265\n",
      "Dis loss: 0.0313581\n",
      "Gen loss: 80.8814\n",
      "Dis loss: 0.0840758\n",
      "Gen loss: 192.522\n",
      "Dis loss: 0.055773\n",
      "Gen loss: 6.08514\n",
      "Dis loss: 0.0736771\n",
      "Gen loss: 0.727464\n",
      "Dis loss: 0.0969725\n",
      "Gen loss: -8.6589\n",
      "fake: [array([[[ 1.,  0.,  0.],\n",
      "        [ 0.,  1.,  0.],\n",
      "        [ 0.,  0.,  1.],\n",
      "        [ 1.,  0.,  0.],\n",
      "        [ 0.,  1.,  0.],\n",
      "        [ 0.,  0.,  1.]],\n",
      "\n",
      "       [[ 0.,  1.,  0.],\n",
      "        [ 0.,  1.,  0.],\n",
      "        [ 0.,  0.,  1.],\n",
      "        [ 1.,  0.,  0.],\n",
      "        [ 0.,  1.,  0.],\n",
      "        [ 0.,  0.,  1.]]], dtype=float32), array([[[  4.68854666e-01],\n",
      "        [  5.11118889e-01],\n",
      "        [  5.49790025e-01],\n",
      "        [  5.29724658e-01],\n",
      "        [  5.52442193e-01],\n",
      "        [  5.09709775e-01]],\n",
      "\n",
      "       [[  2.63878014e-02],\n",
      "        [  1.90954233e-04],\n",
      "        [  2.97354301e-04],\n",
      "        [  9.56246164e-04],\n",
      "        [  2.10767705e-03],\n",
      "        [  2.44500767e-03]]], dtype=float32)] \n",
      "\n",
      "real: [array([[[ 1.,  0.,  0.],\n",
      "        [ 0.,  1.,  0.],\n",
      "        [ 0.,  0.,  1.],\n",
      "        [ 1.,  0.,  0.],\n",
      "        [ 0.,  1.,  0.],\n",
      "        [ 0.,  0.,  1.]],\n",
      "\n",
      "       [[ 1.,  0.,  0.],\n",
      "        [ 0.,  1.,  0.],\n",
      "        [ 0.,  0.,  1.],\n",
      "        [ 1.,  0.,  0.],\n",
      "        [ 0.,  1.,  0.],\n",
      "        [ 0.,  0.,  1.]]], dtype=float32), array([[[ 0.46885467],\n",
      "        [ 0.51111889],\n",
      "        [ 0.54979002],\n",
      "        [ 0.52972466],\n",
      "        [ 0.55244219],\n",
      "        [ 0.50970978]],\n",
      "\n",
      "       [[ 0.46885467],\n",
      "        [ 0.51111889],\n",
      "        [ 0.54979002],\n",
      "        [ 0.52972466],\n",
      "        [ 0.55244219],\n",
      "        [ 0.50970978]]], dtype=float32)] \n",
      "\n"
     ]
    }
   ],
   "source": [
    "tf.reset_default_graph()\n",
    "\n",
    "# Training data.\n",
    "real_sequence = tf.constant([[[1.,0.,0.],\n",
    "                              [0.,1.,0.],\n",
    "                              [0.,0.,1.],\n",
    "                              [1.,0.,0.],\n",
    "                              [0.,1.,0.],\n",
    "                              [0.,0.,1.]],\n",
    "                             [[1.,0.,0.],\n",
    "                              [0.,1.,0.],\n",
    "                              [0.,0.,1.],\n",
    "                              [1.,0.,0.],\n",
    "                              [0.,1.,0.],\n",
    "                              [0.,0.,1.]]], dtype=tf.float32)\n",
    "\n",
    "real_labels = tf.ones((batch_size, time_steps))\n",
    "fake_labels = tf.zeros((batch_size, time_steps))\n",
    "\n",
    "# Generator loss.\n",
    "fake_sequence = generator()\n",
    "fake_predictions = discriminator(fake_sequence)\n",
    "gen_reward = generator_rewards(fake_predictions)\n",
    "\n",
    "# Discriminator loss.\n",
    "real_predictions = discriminator(real_sequence, reuse=True)\n",
    "dis_loss_real = discriminator_loss(real_predictions, real_labels)\n",
    "dis_loss_fake = discriminator_loss(fake_predictions, fake_labels)\n",
    "dis_loss = dis_loss_real + dis_loss_fake\n",
    "\n",
    "\n",
    "with tf.name_scope('train_generator'):\n",
    "    gen_optimizer = tf.train.AdamOptimizer(lr)\n",
    "    gen_vars = [v for v in tf.trainable_variables() if v.op.name.startswith('gen')]\n",
    "    gen_train_op = gen_optimizer.minimize(-gen_reward, var_list = gen_vars)\n",
    "\n",
    "with tf.name_scope('train_discriminator'):\n",
    "    dis_optimizer = tf.train.AdamOptimizer(lr)\n",
    "    dis_vars = [v for v in tf.trainable_variables() if v.op.name.startswith('dis')]\n",
    "    dis_train_op = dis_optimizer.minimize(dis_loss, var_list = dis_vars)\n",
    "\n",
    "\n",
    "with tf.Session() as sess:\n",
    "    init_op = tf.initialize_all_variables()\n",
    "    sess.run(init_op)\n",
    "    \n",
    "    print 'num_iterations', num_iterations\n",
    "    for t in xrange(num_iterations):\n",
    "        for i in xrange(dis_iterations):\n",
    "            _, dis_loss_eval = sess.run([dis_train_op, dis_loss])\n",
    "\n",
    "        for i in xrange(gen_iterations):\n",
    "            _, gen_loss_eval = sess.run([gen_train_op, gen_reward])\n",
    "\n",
    "        if t % print_every == 0:\n",
    "            print 'Dis loss:', dis_loss_eval\n",
    "            print 'Gen loss:', gen_loss_eval[0]\n",
    "                      \n",
    "    print 'fake:', sess.run([fake_sequence, fake_predictions]), '\\n'\n",
    "    print 'real:', sess.run([real_sequence, real_predictions]), '\\n'\n",
    "#     print sess.run(dis_vars)\n",
    "\n"
   ]
  },
  {
   "cell_type": "markdown",
   "metadata": {},
   "source": [
    "# TODO\n",
    "* Generalize for dictionary feed.\n",
    "* Generalize for random input $z_{gen}$."
   ]
  },
  {
   "cell_type": "markdown",
   "metadata": {},
   "source": [
    "### Check Loss Calculation"
   ]
  },
  {
   "cell_type": "code",
   "execution_count": null,
   "metadata": {
    "collapsed": false
   },
   "outputs": [],
   "source": [
    "logits = tf.constant([[[0.5, 0.5, 0.5, 0.5], [0.5, 0.5, 0.5, 0.5]]], dtype=tf.float32)\n",
    "labels = tf.constant([[0, 0, 0, 0], [0, 0, 0, 0]])\n",
    "\n",
    "loss = tf.contrib.losses.log_loss(logits, labels)\n",
    "with tf.Session() as sess:\n",
    "    print sess.run(loss)\n"
   ]
  },
  {
   "cell_type": "markdown",
   "metadata": {},
   "source": [
    "## Real Data.\n",
    "Create a simple data distribution with sequential structure for testing the GAN."
   ]
  },
  {
   "cell_type": "code",
   "execution_count": null,
   "metadata": {
    "collapsed": false
   },
   "outputs": [],
   "source": [
    "num_examples = 1000\n",
    "\n",
    "# Real Sequence (num_examples, time_steps, inp_dim)\n",
    "real_sequences = []\n",
    "real_seq = np.array([[1.,0.,0.],[0.,1.,0.],[0.,0.,1.],[1.,1.,1.]])\n",
    "\n",
    "for i in xrange(num_examples):\n",
    "    real_sequences.append(real_seq)\n",
    "real_sequences = np.asarray(real_sequences)\n",
    "\n",
    "# Real Labels (num_examples, time_steps)\n",
    "real_labels = np.ones([num_examples, time_steps], dtype=np.int)"
   ]
  }
 ],
 "metadata": {
  "kernelspec": {
   "display_name": "Python 2",
   "language": "python",
   "name": "python2"
  },
  "language_info": {
   "codemirror_mode": {
    "name": "ipython",
    "version": 2
   },
   "file_extension": ".py",
   "mimetype": "text/x-python",
   "name": "python",
   "nbconvert_exporter": "python",
   "pygments_lexer": "ipython2",
   "version": "2.7.6"
  }
 },
 "nbformat": 4,
 "nbformat_minor": 0
}
