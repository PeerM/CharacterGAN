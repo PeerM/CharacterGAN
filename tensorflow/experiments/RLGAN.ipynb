{
 "cells": [
  {
   "cell_type": "markdown",
   "metadata": {},
   "source": [
    "# Reinforcement Learning GAN\n",
    "Employ REINFORCE for training the Generator in a GAN formuluation.  As before, the reward to the Generator $G$ is simply the probability of real at each time point, $p_t$, assigned by the Discriminator $D$."
   ]
  },
  {
   "cell_type": "code",
   "execution_count": 2,
   "metadata": {
    "collapsed": true
   },
   "outputs": [],
   "source": [
    "import tensorflow as tf\n",
    "from tensorflow.contrib.distributions import Categorical\n",
    "\n",
    "rnn_gen_size = 3\n",
    "rnn_dis_size = 2\n",
    "time_steps = 5\n",
    "batch_size = 1\n",
    "num_trials = 1000\n",
    "print_every = 100\n",
    "lr = 0.1\n",
    "decay = 0.9"
   ]
  },
  {
   "cell_type": "markdown",
   "metadata": {},
   "source": [
    "## Generator and Discriminator Models."
   ]
  },
  {
   "cell_type": "code",
   "execution_count": 7,
   "metadata": {
    "collapsed": true
   },
   "outputs": [],
   "source": [
    "def generator():\n",
    "    '''Define the Generator graph.'''\n",
    "    batch_indices = tf.constant([[1., 0., 0.]], dtype=tf.float32)   \n",
    "    \n",
    "    with tf.variable_scope('gen'):\n",
    "        cell_gen = tf.nn.rnn_cell.BasicRNNCell(rnn_gen_size)\n",
    "        state_gen = cell_gen.zero_state(batch_size, tf.float32)\n",
    "\n",
    "        with tf.name_scope('rnn'):\n",
    "            sequence = []\n",
    "\n",
    "            for t in xrange(time_steps):        \n",
    "                if t > 0:\n",
    "                    tf.get_variable_scope().reuse_variables()\n",
    "                    \n",
    "                rnn_in = batch_indices\n",
    "                rnn_out, state_gen = cell_gen(rnn_in, state_gen)\n",
    "                log_probs = tf.nn.log_softmax(rnn_out)\n",
    "\n",
    "                index = tf.contrib.bayesflow.stochastic_graph.DistributionTensor(\n",
    "                    tf.contrib.distributions.Categorical,\n",
    "                    logits=log_probs)\n",
    "                batch_indices = tf.one_hot(index, rnn_gen_size, dtype=tf.float32)\n",
    "                sequence.append(batch_indices)\n",
    "    return sequence\n",
    "\n",
    "\n",
    "def discriminator(batch):\n",
    "    '''Define the Discriminator graph.'''\n",
    "    with tf.variable_scope('dis'):    \n",
    "        cell_dis = tf.nn.rnn_cell.BasicRNNCell(rnn_dis_size)\n",
    "        state_dis = cell_dis.zero_state(batch_size, tf.float32)\n",
    "\n",
    "        with tf.name_scope('rnn'):\n",
    "            predictions = []\n",
    "\n",
    "            for t in xrange(time_steps):        \n",
    "                if t > 0:\n",
    "                    tf.get_variable_scope().reuse_variables()\n",
    "\n",
    "                rnn_out, state_dis = cell_dis(rnn_in, state_dis)\n",
    "                pred = tf.nn.sigmoid(rnn_out)\n",
    "                predictions.append(pred)\n",
    "    return predictions"
   ]
  },
  {
   "cell_type": "markdown",
   "metadata": {},
   "source": [
    "## Training Operations."
   ]
  },
  {
   "cell_type": "code",
   "execution_count": 10,
   "metadata": {
    "collapsed": true
   },
   "outputs": [],
   "source": [
    "def train_generator(predictions):\n",
    "    rewards = []\n",
    "    for pred in predictions:\n",
    "        rewards.append(pred)\n",
    "    \n",
    "    # Exponential baseline.\n",
    "    ema = tf.train.ExponentialMovingAverage(decay = decay)\n",
    "    rewards_tf = tf.pack(rewards)\n",
    "    reduced_reward = tf.reduce_mean(rewards_tf)\n",
    "    maintain_avg_op = ema.apply([reduced_reward])\n",
    "    baseline = ema.average(reduced_reward)\n",
    "    \n",
    "    # Advantage.\n",
    "    loss = []\n",
    "    for reward in rewards:\n",
    "        advantage = reward - baseline\n",
    "        loss.append(-advantage)\n",
    "\n",
    "    # Optimizer \n",
    "    optimizer = tf.train.AdamOptimizer(lr)\n",
    "    final_loss = tf.contrib.bayesflow.stochastic_graph.surrogate_loss(loss)\n",
    "    gen_vars = [v for v in tf.trainable_variables() if v.op.name.startswith('gen')]\n",
    "    min_op = optimizer.minimize(final_loss, var_list = gen_vars)\n",
    "    \n",
    "    # Group operations.\n",
    "    train_op = tf.group(min_op, maintain_avg_op)\n",
    "    return final_loss, train_op\n",
    "\n",
    "def train_discriminator():\n",
    "    pass"
   ]
  },
  {
   "cell_type": "markdown",
   "metadata": {},
   "source": [
    "## Generative Adversarial Networks Training."
   ]
  },
  {
   "cell_type": "code",
   "execution_count": 11,
   "metadata": {
    "collapsed": false
   },
   "outputs": [
    {
     "name": "stdout",
     "output_type": "stream",
     "text": [
      "[[  8.13239193  11.08939552]]\n",
      "[[ 0.08681759  0.00720839]]\n",
      "[[-0.02137245 -0.15873247]]\n",
      "[[ 0.08509405  0.96771246]]\n",
      "[[-0.22077134  0.25900894]]\n",
      "[[-0.33014858 -0.46368432]]\n",
      "[[-0.0094105   0.19558778]]\n",
      "[[ 0.01991042  0.41853967]]\n",
      "[[-0.08498007  0.22559211]]\n",
      "[[-0.02822899  0.25819704]]\n"
     ]
    }
   ],
   "source": [
    "sequence = generator()\n",
    "preds = discriminator(sequence)\n",
    "\n",
    "loss, train_op = train_generator(preds)\n",
    "\n",
    "with tf.Session() as sess:\n",
    "    init_op = tf.initialize_all_variables()\n",
    "    sess.run(init_op)\n",
    "    \n",
    "    for t in xrange(num_trials):\n",
    "        sess.run(train_op)\n",
    "        if t % print_every == 0:\n",
    "            print sess.run(loss) "
   ]
  }
 ],
 "metadata": {
  "kernelspec": {
   "display_name": "Python 2",
   "language": "python",
   "name": "python2"
  },
  "language_info": {
   "codemirror_mode": {
    "name": "ipython",
    "version": 2
   },
   "file_extension": ".py",
   "mimetype": "text/x-python",
   "name": "python",
   "nbconvert_exporter": "python",
   "pygments_lexer": "ipython2",
   "version": "2.7.6"
  }
 },
 "nbformat": 4,
 "nbformat_minor": 0
}
