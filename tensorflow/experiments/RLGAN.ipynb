{
 "cells": [
  {
   "cell_type": "markdown",
   "metadata": {},
   "source": [
    "# Reinforcement Learning GAN\n",
    "Employ REINFORCE for training the Generator in a GAN formuluation.  As before, the reward to the Generator $G$ is simply the probability of real at each time point, $p_t$, assigned by the Discriminator $D$."
   ]
  },
  {
   "cell_type": "code",
   "execution_count": 1,
   "metadata": {
    "collapsed": true
   },
   "outputs": [],
   "source": [
    "import tensorflow as tf\n",
    "import numpy as np\n",
    "from tensorflow.contrib.distributions import Categorical\n",
    "\n",
    "rnn_gen_size = 3\n",
    "rnn_dis_size = 2\n",
    "time_steps = 4\n",
    "batch_size = 1\n",
    "num_trials = 1000\n",
    "print_every = 100\n",
    "lr = 0.1\n",
    "decay = 0.9"
   ]
  },
  {
   "cell_type": "markdown",
   "metadata": {},
   "source": [
    "## Real Data.\n",
    "Create a simple data distribution with sequential structure for testing the GAN."
   ]
  },
  {
   "cell_type": "code",
   "execution_count": 2,
   "metadata": {
    "collapsed": false
   },
   "outputs": [
    {
     "name": "stdout",
     "output_type": "stream",
     "text": [
      "[[ 1.  0.  0.]\n",
      " [ 0.  1.  0.]\n",
      " [ 0.  0.  1.]\n",
      " [ 1.  0.  0.]]\n"
     ]
    }
   ],
   "source": [
    "num_examples = 1000\n",
    "\n",
    "real_seq = np.array([[1., 0., 0.],[0., 1., 0.],[0., 0., 1.], [1., 0., 0.]])\n",
    "\n",
    "# assert \n",
    "# real_data = np.\n",
    "print real_seq"
   ]
  },
  {
   "cell_type": "markdown",
   "metadata": {},
   "source": [
    "## Generator and Discriminator."
   ]
  },
  {
   "cell_type": "code",
   "execution_count": 3,
   "metadata": {
    "collapsed": true
   },
   "outputs": [],
   "source": [
    "def generator():\n",
    "    '''Define the Generator graph.'''\n",
    "    # TODO: Generalize for random input.\n",
    "    # batch_indices = gen_z\n",
    "    batch_indices = tf.constant([[1., 0., 0.]], dtype=tf.float32)   \n",
    "    \n",
    "    with tf.variable_scope('gen'):\n",
    "        cell_gen = tf.nn.rnn_cell.BasicRNNCell(rnn_gen_size)\n",
    "        state_gen = cell_gen.zero_state(batch_size, tf.float32)\n",
    "\n",
    "        with tf.variable_scope('rnn'):\n",
    "            sequence = []\n",
    "\n",
    "            for t in xrange(time_steps):        \n",
    "                if t > 0:\n",
    "                    tf.get_variable_scope().reuse_variables()\n",
    "                    \n",
    "                rnn_in = batch_indices\n",
    "                rnn_out, state_gen = cell_gen(rnn_in, state_gen)\n",
    "                log_probs = tf.nn.log_softmax(rnn_out)\n",
    "\n",
    "                index = tf.contrib.bayesflow.stochastic_graph.DistributionTensor(\n",
    "                    tf.contrib.distributions.Categorical,\n",
    "                    logits=log_probs)\n",
    "                batch_indices = tf.one_hot(index, rnn_gen_size, dtype=tf.float32)\n",
    "                sequence.append(batch_indices)\n",
    "    return sequence\n",
    "\n",
    "\n",
    "def discriminator(sequence):\n",
    "    '''Define the Discriminator graph.'''\n",
    "    with tf.variable_scope('dis'):    \n",
    "        cell_dis = tf.nn.rnn_cell.BasicRNNCell(rnn_dis_size)\n",
    "        state_dis = cell_dis.zero_state(batch_size, tf.float32)\n",
    "\n",
    "        with tf.variable_scope('rnn'):\n",
    "            predictions = []\n",
    "\n",
    "            for t, inp in enumerate(sequence):\n",
    "                rnn_in = inp\n",
    "                if t > 0:\n",
    "                    tf.get_variable_scope().reuse_variables()\n",
    "\n",
    "                rnn_out, state_dis = cell_dis(rnn_in, state_dis)\n",
    "                pred = tf.nn.sigmoid(rnn_out)\n",
    "                predictions.append(pred)\n",
    "    return predictions"
   ]
  },
  {
   "cell_type": "markdown",
   "metadata": {},
   "source": [
    "## Training Operations."
   ]
  },
  {
   "cell_type": "code",
   "execution_count": 31,
   "metadata": {
    "collapsed": true
   },
   "outputs": [],
   "source": [
    "def train_generator(predictions):\n",
    "    '''Train generator via REINFORCE.'''\n",
    "    rewards = []\n",
    "    for pred in predictions:\n",
    "        rewards.append(pred)\n",
    "    \n",
    "    # Exponential baseline.\n",
    "    ema = tf.train.ExponentialMovingAverage(decay = decay)\n",
    "    rewards_tf = tf.pack(rewards)\n",
    "    reduced_reward = tf.reduce_mean(rewards_tf)\n",
    "    maintain_avg_op = ema.apply([reduced_reward])\n",
    "    baseline = ema.average(reduced_reward)\n",
    "    \n",
    "    # Advantage.\n",
    "    loss = []\n",
    "    for reward in rewards:\n",
    "        advantage = reward - baseline\n",
    "        loss.append(-advantage)\n",
    "\n",
    "    # Optimizer \n",
    "    optimizer = tf.train.AdamOptimizer(lr)\n",
    "    final_loss = tf.contrib.bayesflow.stochastic_graph.surrogate_loss(loss)\n",
    "    gen_vars = [v for v in tf.trainable_variables() if v.op.name.startswith('gen')]\n",
    "    min_op = optimizer.minimize(final_loss, var_list = gen_vars)\n",
    "    \n",
    "    # Group operations.\n",
    "    train_op = tf.group(min_op, maintain_avg_op)\n",
    "    return final_loss, train_op\n",
    "\n",
    "\n",
    "def train_discriminator(sequences, labels):\n",
    "    '''Train Discriminator via cross entropy'''\n",
    "    loss = []\n",
    "    for seq, lab in zip(sequences, labels):\n",
    "        loss.append(tf.contrib.losses.log_loss(seq, lab))\n",
    "    \n",
    "    final_loss = tf.reduce_sum(loss) / batch_size / seq_length\n",
    "    dis_vars = [v for v in tf.trainable_variables() if v.op.name.startswith('dis')]\n",
    "    \n",
    "    # Optimizer\n",
    "    optimizer = tf.train.AdamOptimizer(lr)\n",
    "    train_op = optimizer.minimize(final_loss, var_list = dis_vars)\n",
    "    \n",
    "    \n",
    "    "
   ]
  },
  {
   "cell_type": "markdown",
   "metadata": {},
   "source": [
    "### Check Loss Calculation"
   ]
  },
  {
   "cell_type": "code",
   "execution_count": 24,
   "metadata": {
    "collapsed": false
   },
   "outputs": [
    {
     "name": "stdout",
     "output_type": "stream",
     "text": [
      "0.693147\n"
     ]
    }
   ],
   "source": [
    "logits = tf.constant([[0.5]], dtype=tf.float32)\n",
    "labels = tf.constant([[0]])\n",
    "\n",
    "loss = tf.contrib.losses.log_loss(logits, labels)\n",
    "with tf.Session() as sess:\n",
    "    print sess.run(loss)\n"
   ]
  },
  {
   "cell_type": "markdown",
   "metadata": {},
   "source": [
    "## Generative Adversarial Networks Training."
   ]
  },
  {
   "cell_type": "code",
   "execution_count": 42,
   "metadata": {
    "collapsed": false,
    "scrolled": true
   },
   "outputs": [
    {
     "name": "stdout",
     "output_type": "stream",
     "text": [
      "4\n",
      "[[ 2.22107077  1.57640052]]\n",
      "[[ 0.31343961 -0.01342641]]\n",
      "[[ 0.21456057  0.16737241]]\n",
      "[[ 0.21627289 -0.32114762]]\n",
      "[[ 0.25093225 -0.06628224]]\n",
      "[[ 0.34141546  0.17728008]]\n",
      "[[ 0.33368659 -0.06670886]]\n",
      "[[ 0.30806732  0.07261313]]\n",
      "[[ 0.34760535 -0.22436023]]\n",
      "[[-0.01210876 -0.97494161]]\n"
     ]
    }
   ],
   "source": [
    "tf.reset_default_graph()\n",
    "\n",
    "fake_seq = generator()\n",
    "print len(fake_seq)\n",
    "preds = discriminator(fake_seq)\n",
    "\n",
    "loss, train_op = train_generator(preds)\n",
    "\n",
    "with tf.Session() as sess:\n",
    "    init_op = tf.initialize_all_variables()\n",
    "    sess.run(init_op)\n",
    "    \n",
    "    for t in xrange(num_trials):\n",
    "        sess.run(train_op)\n",
    "        if t % print_every == 0:\n",
    "            print sess.run(loss) "
   ]
  },
  {
   "cell_type": "markdown",
   "metadata": {},
   "source": [
    "# TODO\n",
    "* Generalize for random input $z_{gen}$"
   ]
  }
 ],
 "metadata": {
  "kernelspec": {
   "display_name": "Python 2",
   "language": "python",
   "name": "python2"
  },
  "language_info": {
   "codemirror_mode": {
    "name": "ipython",
    "version": 2
   },
   "file_extension": ".py",
   "mimetype": "text/x-python",
   "name": "python",
   "nbconvert_exporter": "python",
   "pygments_lexer": "ipython2",
   "version": "2.7.6"
  }
 },
 "nbformat": 4,
 "nbformat_minor": 0
}
