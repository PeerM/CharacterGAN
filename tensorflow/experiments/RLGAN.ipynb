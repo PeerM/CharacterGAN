{
 "cells": [
  {
   "cell_type": "markdown",
   "metadata": {},
   "source": [
    "# Reinforcement Learning GAN\n",
    "Employ REINFORCE for training the Generator in a GAN formuluation.  As before, the reward to the Generator $G$ is simply the probability of real at each time point, $p_t$, assigned by the Discriminator $D$.\n",
    "\n",
    "Classic GAN minimization objective,\n",
    "\n",
    "$$\\text{max}_{G_{\\theta}} \\text{min}_{D_{\\theta}} \\left[ \\text{log}(D(x)) + \\text{log}(1. - D(G(z)) \\right]$$"
   ]
  },
  {
   "cell_type": "code",
   "execution_count": null,
   "metadata": {
    "collapsed": true
   },
   "outputs": [],
   "source": [
    "import tensorflow as tf\n",
    "import numpy as np\n",
    "from tensorflow.contrib.distributions import Categorical\n",
    "\n",
    "rnn_gen_size = 3\n",
    "rnn_dis_size = 1\n",
    "time_steps = 4\n",
    "batch_size = 1\n",
    "num_iterations = 10000\n",
    "gen_iterations = 1\n",
    "dis_iterations = 1\n",
    "print_every = 1000\n",
    "lr = 0.1\n",
    "decay = 0.9\n",
    "\n",
    "# TODO: Fix batching errors when initial model working.\n",
    "assert batch_size == 1"
   ]
  },
  {
   "cell_type": "markdown",
   "metadata": {},
   "source": [
    "## Generator and Discriminator."
   ]
  },
  {
   "cell_type": "code",
   "execution_count": null,
   "metadata": {
    "collapsed": true
   },
   "outputs": [],
   "source": [
    "def score_function_with_mean_baseline(dt, val, losses, decay = 0.9):\n",
    "    '''Create a specific score function to pass to DistributionTensors'''\n",
    "    loss = tf.reduce_mean(tf.add_n(losses))\n",
    "    ema = tf.train.ExponentialMovingAverage(decay)\n",
    "    update_op = ema.apply([loss])\n",
    "    baseline = ema.average(loss)\n",
    "    advantage = tf.stop_gradient(loss - baseline)\n",
    "    \n",
    "    with tf.control_dependencies([update_op]):\n",
    "        return dt.distribution.log_prob(val) * advantage\n",
    "\n",
    "\n",
    "def generator(reuse=False):\n",
    "    '''Define the Generator graph.'''\n",
    "    # TODO: Generalize for random input.\n",
    "    # batch_indices = gen_z\n",
    "    batch_indices = tf.constant([[1., 0., 0.]], dtype=tf.float32)   \n",
    "    \n",
    "    with tf.variable_scope('gen', reuse=reuse):\n",
    "        cell_gen = tf.nn.rnn_cell.BasicRNNCell(rnn_gen_size)\n",
    "        state_gen = cell_gen.zero_state(batch_size, tf.float32)\n",
    "\n",
    "        with tf.variable_scope('rnn'):\n",
    "            sequence = []\n",
    "\n",
    "            for t in xrange(time_steps):        \n",
    "                if t > 0:\n",
    "                    tf.get_variable_scope().reuse_variables()\n",
    "                    \n",
    "                rnn_in = batch_indices\n",
    "                rnn_out, state_gen = cell_gen(rnn_in, state_gen)\n",
    "                log_probs = tf.nn.log_softmax(rnn_out)\n",
    "\n",
    "                index = tf.contrib.bayesflow.stochastic_graph.DistributionTensor(\n",
    "                    tf.contrib.distributions.Categorical,\n",
    "                    logits=log_probs,\n",
    "                    loss_fn=score_function_with_mean_baseline)\n",
    "                batch_indices = tf.one_hot(index, rnn_gen_size, dtype=tf.float32)\n",
    "                sequence.append(batch_indices)\n",
    "    return tf.pack(sequence, axis=1)\n",
    "\n",
    "\n",
    "def discriminator(sequence, reuse=False):\n",
    "    '''Define the Discriminator graph.'''\n",
    "    sequence = tf.unpack(sequence, axis=1)\n",
    "    with tf.variable_scope('dis', reuse=reuse):    \n",
    "        cell_dis = tf.nn.rnn_cell.BasicRNNCell(rnn_dis_size)\n",
    "        state_dis = cell_dis.zero_state(batch_size, tf.float32)\n",
    "\n",
    "        with tf.variable_scope('rnn'):\n",
    "            predictions = []\n",
    "\n",
    "            for t, inp in enumerate(sequence):\n",
    "                rnn_in = inp\n",
    "                if t > 0:\n",
    "                    tf.get_variable_scope().reuse_variables()\n",
    "\n",
    "                rnn_out, state_dis = cell_dis(rnn_in, state_dis)\n",
    "                pred = tf.nn.sigmoid(rnn_out)\n",
    "                predictions.append(pred)\n",
    "    return tf.pack(predictions, axis=1)"
   ]
  },
  {
   "cell_type": "markdown",
   "metadata": {},
   "source": [
    "## Losses for Models."
   ]
  },
  {
   "cell_type": "code",
   "execution_count": null,
   "metadata": {
    "collapsed": true
   },
   "outputs": [],
   "source": [
    "def generator_loss(predictions):\n",
    "    '''Generator loss based on Discriminator predictions.'''\n",
    "    loss = []\n",
    "    predictions = tf.unpack(predictions, axis=1)\n",
    "    \n",
    "    for pred in predictions:\n",
    "        loss.append(pred[0,:])\n",
    "    final_loss = tf.contrib.bayesflow.stochastic_graph.surrogate_loss(loss)\n",
    "    return final_loss\n",
    "    \n",
    "        \n",
    "def discriminator_loss(predictions, labels):\n",
    "    '''Discriminator loss based on predictions and labels'''\n",
    "    loss = tf.contrib.losses.log_loss(predictions, labels)\n",
    "    final_loss = tf.reduce_sum(loss) / batch_size / time_steps\n",
    "    return final_loss"
   ]
  },
  {
   "cell_type": "markdown",
   "metadata": {},
   "source": [
    "## Generative Adversarial Networks Training."
   ]
  },
  {
   "cell_type": "code",
   "execution_count": null,
   "metadata": {
    "collapsed": false,
    "scrolled": true
   },
   "outputs": [
    {
     "name": "stdout",
     "output_type": "stream",
     "text": [
      "fake: [array([[[ 0.,  1.,  0.],\n",
      "        [ 0.,  0.,  1.],\n",
      "        [ 1.,  0.,  0.],\n",
      "        [ 0.,  0.,  1.]]], dtype=float32), array([[[ 0.59741277],\n",
      "        [ 0.48568076],\n",
      "        [ 0.43698069],\n",
      "        [ 0.37377653]]], dtype=float32)] \n",
      "\n",
      "real: [array([[[ 1.,  0.,  0.],\n",
      "        [ 0.,  1.,  0.],\n",
      "        [ 0.,  0.,  1.],\n",
      "        [ 1.,  1.,  1.]]], dtype=float32), array([[[ 0.44757432],\n",
      "        [ 0.56105626],\n",
      "        [ 0.45664963],\n",
      "        [ 0.70321018]]], dtype=float32)] \n",
      "\n",
      "0.367145\n"
     ]
    }
   ],
   "source": [
    "tf.reset_default_graph()\n",
    "\n",
    "# Training data.\n",
    "real_sequence = tf.constant([[[1.,0.,0.], [0.,1.,0.], [0.,0.,1.], [1.,1.,1.]]], dtype=tf.float32)\n",
    "real_labels = tf.constant(1, dtype=tf.int32, shape=[batch_size, time_steps])\n",
    "fake_labels = tf.constant(0, dtype=tf.int32, shape=[batch_size, time_steps])\n",
    "\n",
    "# Generator loss.\n",
    "fake_sequence = generator()\n",
    "fake_predictions = discriminator(fake_sequence)\n",
    "gen_loss = generator_loss(fake_predictions)\n",
    "\n",
    "# Discriminator loss.\n",
    "real_predictions = discriminator(real_sequence, reuse=True)\n",
    "dis_loss = discriminator_loss(real_predictions[:,:,0], real_labels) \\\n",
    "    + discriminator_loss(fake_predictions[:,:,0], fake_labels)\n",
    "\n",
    "\n",
    "with tf.name_scope('train_generator'):\n",
    "    gen_optimizer = tf.train.AdamOptimizer(lr)\n",
    "    gen_vars = [v for v in tf.trainable_variables() if v.op.name.startswith('gen')]\n",
    "    gen_train_op = gen_optimizer.minimize(gen_loss, var_list = gen_vars)\n",
    "\n",
    "with tf.name_scope('train_discriminator'):\n",
    "    dis_optimizer = tf.train.AdamOptimizer(lr)\n",
    "    dis_vars = [v for v in tf.trainable_variables() if v.op.name.startswith('dis')]\n",
    "    dis_train_op = dis_optimizer.minimize(dis_loss, var_list = dis_vars)\n",
    "\n",
    "\n",
    "with tf.Session() as sess:\n",
    "    init_op = tf.initialize_all_variables()\n",
    "    sess.run(init_op)\n",
    "    \n",
    "    for t in xrange(num_iterations):\n",
    "        for i in xrange(dis_iterations):\n",
    "            _, dis_loss_eval = sess.run([dis_train_op, dis_loss])\n",
    "            \n",
    "#         for i in xrange(gen_iterations):\n",
    "#             _, gen_loss_eval = sess.run([gen_train_op, gen_loss])\n",
    "        \n",
    "        if t % print_every == 0:\n",
    "#             print 'gen_loss', gen_loss_eval\n",
    "#             print 'dis_loss', dis_loss_eval\n",
    "   \n",
    "            print 'fake:', sess.run([fake_sequence, fake_predictions]), '\\n'\n",
    "            print 'real:', sess.run([real_sequence, real_predictions]), '\\n'\n",
    "            print dis_loss_eval\n",
    "        \n",
    "\n"
   ]
  },
  {
   "cell_type": "markdown",
   "metadata": {},
   "source": [
    "# TODO\n",
    "* Generalize for random input $z_{gen}$\n",
    "* Fix batching"
   ]
  },
  {
   "cell_type": "markdown",
   "metadata": {},
   "source": [
    "### Check Loss Calculation"
   ]
  },
  {
   "cell_type": "code",
   "execution_count": null,
   "metadata": {
    "collapsed": false
   },
   "outputs": [],
   "source": [
    "logits = tf.constant([[[0.5, 0.5, 0.5, 0.5], [0.5, 0.5, 0.5, 0.5]]], dtype=tf.float32)\n",
    "labels = tf.constant([[0, 0, 0, 0], [0, 0, 0, 0]])\n",
    "\n",
    "loss = tf.contrib.losses.log_loss(logits, labels)\n",
    "with tf.Session() as sess:\n",
    "    print sess.run(loss)\n"
   ]
  },
  {
   "cell_type": "markdown",
   "metadata": {},
   "source": [
    "## Real Data.\n",
    "Create a simple data distribution with sequential structure for testing the GAN."
   ]
  },
  {
   "cell_type": "code",
   "execution_count": null,
   "metadata": {
    "collapsed": false
   },
   "outputs": [],
   "source": [
    "# num_examples = 1000\n",
    "\n",
    "# # Real Sequence (num_examples, time_steps, inp_dim)\n",
    "# real_sequences = []\n",
    "# real_seq = np.array([[1.,0.,0.],[0.,1.,0.],[0.,0.,1.],[1.,1.,1.]])\n",
    "\n",
    "# for i in xrange(num_examples):\n",
    "#     real_sequences.append(real_seq)\n",
    "# real_sequences = np.asarray(real_sequences)\n",
    "\n",
    "# # Real Labels (num_examples, time_steps)\n",
    "# real_labels = np.ones([num_examples, time_steps], dtype=np.int)"
   ]
  }
 ],
 "metadata": {
  "kernelspec": {
   "display_name": "Python 2",
   "language": "python",
   "name": "python2"
  },
  "language_info": {
   "codemirror_mode": {
    "name": "ipython",
    "version": 2
   },
   "file_extension": ".py",
   "mimetype": "text/x-python",
   "name": "python",
   "nbconvert_exporter": "python",
   "pygments_lexer": "ipython2",
   "version": "2.7.6"
  }
 },
 "nbformat": 4,
 "nbformat_minor": 0
}
