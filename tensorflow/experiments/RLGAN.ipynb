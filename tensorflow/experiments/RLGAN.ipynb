{
 "cells": [
  {
   "cell_type": "markdown",
   "metadata": {},
   "source": [
    "# Reinforcement Learning GAN\n",
    "Employ REINFORCE for training the Generator in a GAN formuluation.  As before, the reward to the Generator $G$ is simply the probability of real at each time point, $p_t$, assigned by the Discriminator $D$.\n",
    "\n",
    "Classic GAN minimization objective,\n",
    "\n",
    "$$\\text{max}_{G_{\\theta}} \\text{min}_{D_{\\theta}} \\left[ \\text{log}(D(x)) + \\text{log}(1. - D(G(z)) \\right]$$"
   ]
  },
  {
   "cell_type": "code",
   "execution_count": 49,
   "metadata": {
    "collapsed": true
   },
   "outputs": [],
   "source": [
    "import tensorflow as tf\n",
    "import numpy as np\n",
    "from tensorflow.contrib.distributions import Categorical\n",
    "\n",
    "rnn_gen_size = 3\n",
    "rnn_dis_size = 2\n",
    "time_steps = 4\n",
    "batch_size = 1\n",
    "num_trials = 1000\n",
    "print_every = 100\n",
    "lr = 0.1\n",
    "decay = 0.9"
   ]
  },
  {
   "cell_type": "markdown",
   "metadata": {},
   "source": [
    "## Real Data.\n",
    "Create a simple data distribution with sequential structure for testing the GAN."
   ]
  },
  {
   "cell_type": "code",
   "execution_count": 48,
   "metadata": {
    "collapsed": false
   },
   "outputs": [],
   "source": [
    "num_examples = 1000\n",
    "\n",
    "# Real Sequence (num_examples, time_steps, inp_dim)\n",
    "real_sequences = []\n",
    "real_seq = np.array([[1.,0.,0.],[0.,1.,0.],[0.,0.,1.],[1.,1.,1.]])\n",
    "\n",
    "for i in xrange(num_examples):\n",
    "    real_sequences.append(real_seq)\n",
    "real_sequences = np.asarray(real_sequences)\n",
    "\n",
    "# Real Labels (num_examples, time_steps)\n",
    "real_labels = np.ones([num_examples, time_steps], dtype=np.int)\n"
   ]
  },
  {
   "cell_type": "markdown",
   "metadata": {},
   "source": [
    "## Generator and Discriminator."
   ]
  },
  {
   "cell_type": "code",
   "execution_count": 58,
   "metadata": {
    "collapsed": true
   },
   "outputs": [],
   "source": [
    "def generator():\n",
    "    '''Define the Generator graph.'''\n",
    "    # TODO: Generalize for random input.\n",
    "    # batch_indices = gen_z\n",
    "    batch_indices = tf.constant([[1., 0., 0.]], dtype=tf.float32)   \n",
    "    \n",
    "    with tf.variable_scope('gen'):\n",
    "        cell_gen = tf.nn.rnn_cell.BasicRNNCell(rnn_gen_size)\n",
    "        state_gen = cell_gen.zero_state(batch_size, tf.float32)\n",
    "\n",
    "        with tf.variable_scope('rnn'):\n",
    "            sequence = []\n",
    "\n",
    "            for t in xrange(time_steps):        \n",
    "                if t > 0:\n",
    "                    tf.get_variable_scope().reuse_variables()\n",
    "                    \n",
    "                rnn_in = batch_indices\n",
    "                rnn_out, state_gen = cell_gen(rnn_in, state_gen)\n",
    "                log_probs = tf.nn.log_softmax(rnn_out)\n",
    "\n",
    "                index = tf.contrib.bayesflow.stochastic_graph.DistributionTensor(\n",
    "                    tf.contrib.distributions.Categorical,\n",
    "                    logits=log_probs)\n",
    "                batch_indices = tf.one_hot(index, rnn_gen_size, dtype=tf.float32)\n",
    "                sequence.append(batch_indices)\n",
    "    return tf.pack(sequence, axis=1)\n",
    "\n",
    "\n",
    "def discriminator(sequence):\n",
    "    '''Define the Discriminator graph.'''\n",
    "    sequence = tf.unpack(sequence, axis=1)\n",
    "    with tf.variable_scope('dis'):    \n",
    "        cell_dis = tf.nn.rnn_cell.BasicRNNCell(rnn_dis_size)\n",
    "        state_dis = cell_dis.zero_state(batch_size, tf.float32)\n",
    "\n",
    "        with tf.variable_scope('rnn'):\n",
    "            predictions = []\n",
    "\n",
    "            for t, inp in enumerate(sequence):\n",
    "                rnn_in = inp\n",
    "                if t > 0:\n",
    "                    tf.get_variable_scope().reuse_variables()\n",
    "\n",
    "                rnn_out, state_dis = cell_dis(rnn_in, state_dis)\n",
    "                pred = tf.nn.sigmoid(rnn_out)\n",
    "                predictions.append(pred)\n",
    "    return predictions"
   ]
  },
  {
   "cell_type": "markdown",
   "metadata": {},
   "source": [
    "## Training Operations."
   ]
  },
  {
   "cell_type": "code",
   "execution_count": 52,
   "metadata": {
    "collapsed": true
   },
   "outputs": [],
   "source": [
    "def train_generator(predictions):\n",
    "    '''Train generator via REINFORCE.'''\n",
    "    rewards = []\n",
    "    for pred in predictions:\n",
    "        rewards.append(pred)\n",
    "    \n",
    "    # Exponential baseline.\n",
    "    ema = tf.train.ExponentialMovingAverage(decay = decay)\n",
    "    rewards_tf = tf.pack(rewards)\n",
    "    reduced_reward = tf.reduce_mean(rewards_tf)\n",
    "    maintain_avg_op = ema.apply([reduced_reward])\n",
    "    baseline = ema.average(reduced_reward)\n",
    "    \n",
    "    # Advantage.\n",
    "    loss = []\n",
    "    for reward in rewards:\n",
    "        advantage = reward - baseline\n",
    "        loss.append(-advantage)\n",
    "\n",
    "    # Optimizer \n",
    "    optimizer = tf.train.AdamOptimizer(lr)\n",
    "    final_loss = tf.contrib.bayesflow.stochastic_graph.surrogate_loss(loss)\n",
    "    gen_vars = [v for v in tf.trainable_variables() if v.op.name.startswith('gen')]\n",
    "    min_op = optimizer.minimize(final_loss, var_list = gen_vars)\n",
    "    \n",
    "    # Group operations.\n",
    "    train_op = tf.group(min_op, maintain_avg_op)\n",
    "    return final_loss, train_op\n",
    "\n",
    "\n",
    "def train_discriminator(sequences, labels):\n",
    "    '''Train Discriminator via cross entropy'''\n",
    "#     loss = []\n",
    "#     for seq, lab in zip(sequences, labels):\n",
    "#         loss.append(tf.contrib.losses.log_loss(seq, lab))\n",
    "    loss = tf.contrib.losses.log_loss(seq, lab)\n",
    "    \n",
    "    final_loss = tf.reduce_sum(loss) / batch_size / seq_length\n",
    "    dis_vars = [v for v in tf.trainable_variables() if v.op.name.startswith('dis')]\n",
    "    \n",
    "    # Optimizer\n",
    "    optimizer = tf.train.AdamOptimizer(lr)\n",
    "    train_op = optimizer.minimize(final_loss, var_list = dis_vars)\n",
    "    return final_loss, train_op"
   ]
  },
  {
   "cell_type": "markdown",
   "metadata": {},
   "source": [
    "### Check Loss Calculation"
   ]
  },
  {
   "cell_type": "code",
   "execution_count": 50,
   "metadata": {
    "collapsed": false
   },
   "outputs": [
    {
     "name": "stdout",
     "output_type": "stream",
     "text": [
      "0.693147\n"
     ]
    }
   ],
   "source": [
    "logits = tf.constant([[0.5, 0.5, 0.5, 0.5], [0.5, 0.5, 0.5, 0.5]], dtype=tf.float32)\n",
    "labels = tf.constant([[0, 0, 0, 0], [0, 0, 0, 0]])\n",
    "\n",
    "loss = tf.contrib.losses.log_loss(logits, labels)\n",
    "with tf.Session() as sess:\n",
    "    print sess.run(loss)\n"
   ]
  },
  {
   "cell_type": "markdown",
   "metadata": {},
   "source": [
    "## Generative Adversarial Networks Training."
   ]
  },
  {
   "cell_type": "code",
   "execution_count": 59,
   "metadata": {
    "collapsed": false,
    "scrolled": true
   },
   "outputs": [
    {
     "name": "stdout",
     "output_type": "stream",
     "text": [
      "(1, 4, 3)\n"
     ]
    }
   ],
   "source": [
    "tf.reset_default_graph()\n",
    "\n",
    "\n",
    "fake_sequence = generator()\n",
    "predictions = discriminator(fake_sequence)\n",
    "\n",
    "with tf.Session() as sess:\n",
    "    init_op = tf.initialize_all_variables()\n",
    "    sess.run(init_op)\n",
    "    \n",
    "    for t in xrange(num_trials):\n",
    "        sess.run(train_op)\n",
    "        \n",
    "        assert batch_size == 1\n",
    "        # TODO: Better batching.\n",
    "        for n in xrange(num_examples):\n",
    "            x, y = real_sequences[n], real_labels[n]\n",
    "            \n",
    "\n",
    "\n",
    "            \n",
    "#             gen_loss, gen_train_op = train_generator(preds)\n",
    "#             dis_loss, dis_train_op = train_discriminator()\n",
    "            \n",
    "#             sess.run(dis_train_op)\n",
    "#             sess.run(gen_train_op)\n",
    "\n",
    "#             if t % print_every == 0:\n",
    "#                 print sess.run(gen_loss)\n",
    "                \n",
    "\n",
    "#             print sess.run(fake_seq)"
   ]
  },
  {
   "cell_type": "markdown",
   "metadata": {},
   "source": [
    "# TODO\n",
    "* Generalize for random input $z_{gen}$\n",
    "* Improve batching"
   ]
  }
 ],
 "metadata": {
  "kernelspec": {
   "display_name": "Python 2",
   "language": "python",
   "name": "python2"
  },
  "language_info": {
   "codemirror_mode": {
    "name": "ipython",
    "version": 2
   },
   "file_extension": ".py",
   "mimetype": "text/x-python",
   "name": "python",
   "nbconvert_exporter": "python",
   "pygments_lexer": "ipython2",
   "version": "2.7.6"
  }
 },
 "nbformat": 4,
 "nbformat_minor": 0
}
