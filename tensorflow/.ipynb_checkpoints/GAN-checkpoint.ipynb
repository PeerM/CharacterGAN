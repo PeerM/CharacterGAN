{
 "cells": [
  {
   "cell_type": "markdown",
   "metadata": {},
   "source": [
    "## Parameters"
   ]
  },
  {
   "cell_type": "code",
   "execution_count": 1,
   "metadata": {
    "collapsed": true
   },
   "outputs": [],
   "source": [
    "batch_size = 3\n",
    "seq_length = 4\n",
    "rnn_size   = 10\n",
    "vocab_size = 5\n",
    "save_dir_GAN = 'models_GAN'\n",
    "vocab_file = 'simple_vocab.pkl'\n",
    "model = 'lstm'\n",
    "num_layers = 2"
   ]
  },
  {
   "cell_type": "markdown",
   "metadata": {},
   "source": [
    "## Generate"
   ]
  },
  {
   "cell_type": "code",
   "execution_count": 4,
   "metadata": {
    "collapsed": true
   },
   "outputs": [],
   "source": [
    "def load_vocab(save_dir_GAN, vocab_file):\n",
    "    '''Load vocabulary objects.\n",
    "    \n",
    "    Args:\n",
    "        save_dir_GAN:  Directory containing vocab_files.\n",
    "        vocab_file: Vocab file to use.\n",
    "    '''\n",
    "    with open(os.path.join(save_dir_GAN, vocab_file)) as f:\n",
    "            chars, vocab = cPickle.load(f)\n",
    "    return chars, vocab\n",
    "\n",
    "# Return text from indices\n",
    "def map_to_text(indices, chars):\n",
    "    text = []\n",
    "    for index in indices:\n",
    "        text.append(chars[index])\n",
    "    return text"
   ]
  },
  {
   "cell_type": "code",
   "execution_count": 5,
   "metadata": {
    "collapsed": true
   },
   "outputs": [
    {
     "name": "stdout",
     "output_type": "stream",
     "text": [
      "Iteration 0\n",
      "[[-0.09419005  0.56803495  0.47307166  0.50544196 -0.40804175]\n",
      " [-0.09419005  0.56803495  0.47307166  0.50544196 -0.40804175]\n",
      " [-0.09419005  0.56803495  0.47307166  0.50544196 -0.40804175]] \n",
      "\n",
      "Iteration 1\n",
      "[[ 0.32359368 -0.10683148  0.78633469  0.33877015  0.06092686]\n",
      " [-0.62299073 -0.01256511 -0.08685041 -0.06053785  0.04928803]\n",
      " [-0.27598929  0.52696258  0.57884568  0.35097671 -0.70507175]] \n",
      "\n",
      "Iteration 2\n",
      "[[-0.59284848  0.75424421  0.20050494  0.55502558 -0.43934166]\n",
      " [-0.59284848  0.75424421  0.20050494  0.55502558 -0.43934166]\n",
      " [ 0.29675144 -0.01560468  0.94438457  0.32209209  0.04407423]] \n",
      "\n",
      "Iteration 3\n",
      "[[ 0.00524406  0.37031507  0.54975694  0.40046287 -0.64646858]\n",
      " [-0.45774862  0.02466834 -0.08280412 -0.061278    0.13488948]\n",
      " [ 0.12253881 -0.29317296  0.64915192  0.31881556 -0.01258015]] \n",
      "\n",
      "Iteration 0\n",
      "['b', 'b', 'b'] \n",
      "\n",
      "Iteration 1\n",
      "['b', ' ', ' '] \n",
      "\n",
      "Iteration 2\n",
      "['b', '\\n', 'r'] \n",
      "\n",
      "Iteration 3\n",
      "[' ', 'b', 'b'] \n",
      "\n"
     ]
    }
   ],
   "source": [
    "import tensorflow as tf\n",
    "import os\n",
    "import cPickle\n",
    "from tensorflow.contrib.distributions import Categorical\n",
    "tf.reset_default_graph()\n",
    "\n",
    "def generate():    \n",
    "    # Initial indices\n",
    "    batch_indices = tf.constant(0, shape=[batch_size])\n",
    "\n",
    "    # RNN\n",
    "    outputs, indices = [], []\n",
    "    cell = tf.nn.rnn_cell.BasicRNNCell(rnn_size)\n",
    "    state = cell.zero_state(batch_size, tf.float32)\n",
    "        \n",
    "    with tf.variable_scope('rnn'):\n",
    "        # Embeddings and Logits\n",
    "        embedding = tf.get_variable('embedding', [vocab_size, rnn_size])\n",
    "        softmax   = tf.get_variable('softmax', [rnn_size, vocab_size])\n",
    "\n",
    "        inp = tf.nn.embedding_lookup(embedding, batch_indices)\n",
    "        for i in xrange(seq_length):\n",
    "            indices.append(batch_indices)\n",
    "            if i > 0:\n",
    "                tf.get_variable_scope().reuse_variables()\n",
    "            rnn_out, state = cell(inp, state)\n",
    "            logits_out = tf.matmul(rnn_out, softmax)\n",
    "            outputs.append(logits_out)\n",
    "            batch_indices = tf.squeeze(Categorical(logits_out).sample(n=1))\n",
    "            inp = tf.nn.embedding_lookup(embedding, batch_indices)\n",
    "  \n",
    "    return outputs, indices\n",
    "            \n",
    "\n",
    "with tf.Session() as sess: \n",
    "    outputs, indices = generate()\n",
    "    init_op = tf.initialize_all_variables()\n",
    "    sess.run(init_op)\n",
    "\n",
    "    chars, vocab = load_vocab(save_dir_GAN, vocab_file)\n",
    "    \n",
    "    for i, output in enumerate(outputs):\n",
    "        print 'Iteration %d'%i\n",
    "        print sess.run(output),'\\n'\n",
    "    \n",
    "    for i, batch_indices in enumerate(indices):\n",
    "        print 'Iteration %d'%i\n",
    "        indices_eval = sess.run(batch_indices)\n",
    "        print map_to_text(indices_eval, chars),'\\n'\n",
    "    \n",
    "#     for line in indices:\n",
    "#         print ''.join(line)"
   ]
  },
  {
   "cell_type": "markdown",
   "metadata": {},
   "source": [
    "## Train Generator"
   ]
  },
  {
   "cell_type": "code",
   "execution_count": 15,
   "metadata": {
    "collapsed": false
   },
   "outputs": [
    {
     "name": "stderr",
     "output_type": "stream",
     "text": [
      "WARNING:tensorflow:<tensorflow.python.ops.rnn_cell.BasicLSTMCell object at 0x7fa03c5dedd0>: Using a concatenated state is slower and will soon be deprecated.  Use state_is_tuple=True.\n",
      "WARNING:tensorflow:<tensorflow.python.ops.rnn_cell.BasicLSTMCell object at 0x7fa03c5de950>: Using a concatenated state is slower and will soon be deprecated.  Use state_is_tuple=True.\n"
     ]
    },
    {
     "name": "stdout",
     "output_type": "stream",
     "text": [
      "Iteration 0\n",
      "[[ 0.95938396  0.04061598]\n",
      " [ 0.95938396  0.04061598]\n",
      " [ 0.96078378  0.0392162 ]] \n",
      "\n",
      "Iteration 1\n",
      "[[ 0.96151656  0.03848345]\n",
      " [ 0.9606083   0.03939169]\n",
      " [ 0.95846027  0.04153975]] \n",
      "\n",
      "Iteration 2\n",
      "[[ 0.9603138   0.0396862 ]\n",
      " [ 0.96201485  0.03798509]\n",
      " [ 0.95925593  0.04074399]] \n",
      "\n",
      "Iteration 3\n",
      "[[ 0.9602375   0.03976251]\n",
      " [ 0.95982772  0.0401723 ]\n",
      " [ 0.96159273  0.03840725]] \n",
      "\n"
     ]
    }
   ],
   "source": [
    "from tensorflow.python.ops.nn import rnn_cell\n",
    "from tensorflow.python.ops.nn import rnn\n",
    "from tensorflow.python.ops import array_ops\n",
    "from tensorflow.python.ops import nn_ops\n",
    "from tensorflow.python.ops import math_ops\n",
    "from tensorflow.python.framework import ops\n",
    "from tensorflow.python.ops.nn import seq2seq \n",
    "# TODO: Eliminate depencence on seq2seq\n",
    "\n",
    "tf.reset_default_graph()\n",
    "\n",
    "def construct_gan():\n",
    "    if model == 'rnn':\n",
    "        cell_gen = rnn_cell.BasicRNNCell(rnn_size)\n",
    "        cell_dis = rnn_cell.BasicRNNCell(rnn_size)\n",
    "    elif model == 'gru':\n",
    "        cell_gen = rnn_cell.GRUCell(rnn_size)\n",
    "        cell_dis = rnn_cell.GRUCell(rnn_size)\n",
    "    elif model == 'lstm':\n",
    "        cell_gen = rnn_cell.BasicLSTMCell(rnn_size, state_is_tuple=False)\n",
    "        cell_dis = rnn_cell.BasicLSTMCell(rnn_size, state_is_tuple=False)\n",
    "    else:\n",
    "        raise NotImplementedError('Model type not supported: {}'\n",
    "                                  .format(model))\n",
    "\n",
    "    # Initial indices.\n",
    "    batch_indices = tf.constant(0, shape=[batch_size])\n",
    "        \n",
    "    # Generator Portion of GAN.\n",
    "    with tf.variable_scope('generator'):\n",
    "        outputs_gen, logit_sequence = [], []\n",
    "        cell_gen = rnn_cell.MultiRNNCell([cell_gen] * num_layers)\n",
    "        state_gen = cell_gen.zero_state(batch_size, tf.float32)\n",
    "\n",
    "        with tf.variable_scope('rnn'):\n",
    "            softmax_w = tf.get_variable('softmax_w', [rnn_size, vocab_size])\n",
    "            softmax_b = tf.get_variable('softmax_b', [vocab_size])\n",
    "            embedding = tf.get_variable('embedding', [vocab_size, rnn_size])\n",
    "            inp = tf.nn.embedding_lookup(embedding, batch_indices)\n",
    "    \n",
    "            for i in xrange(seq_length):\n",
    "                if i > 0:\n",
    "                    tf.get_variable_scope().reuse_variables()\n",
    "              \n",
    "                # RNN.\n",
    "                output_gen, state_gen = cell_gen(inp, state_gen)\n",
    "                logits_gen = tf.nn.xw_plus_b(output_gen, softmax_w, \n",
    "                                             softmax_b)\n",
    "                \n",
    "                # Sampling.\n",
    "                sample_op = tf.stop_gradient(Categorical(\n",
    "                                            logits_gen).sample(n=1))\n",
    "                batch_indices = tf.squeeze(sample_op)\n",
    "                inp = tf.nn.embedding_lookup(embedding, batch_indices)                \n",
    "                \n",
    "                # Use Only Logit Sampled.\n",
    "                one_hot = tf.stop_gradient(tf.one_hot(batch_indices,\n",
    "                                                      depth = vocab_size,\n",
    "                                                      dtype = tf.float32))\n",
    "                logit_gen = one_hot * logits_gen\n",
    "                logit_sequence.append(logit_gen)\n",
    "                outputs_gen.append(output_gen)\n",
    "            \n",
    "    # Discriminator Portion of GAN. \n",
    "    with tf.variable_scope('discriminator'):\n",
    "        cell_dis = rnn_cell.MultiRNNCell([cell_dis] * num_layers)\n",
    "        state_dis = cell_dis.zero_state(batch_size, tf.float32)\n",
    "\n",
    "        with tf.variable_scope('rnn'):\n",
    "            softmax_w_dis = tf.get_variable('softmax_w', [rnn_size, 2])\n",
    "            softmax_b_dis = tf.get_variable('softmax_b', [2])\n",
    "            embedding_dis = tf.get_variable('embedding', [vocab_size, rnn_size])            \n",
    "\n",
    "            # Input sequence to Discriminator.\n",
    "            inputs_dis = []\n",
    "            for logit in logit_sequence:\n",
    "                inputs_dis.append(tf.matmul(logit, embedding_dis))\n",
    "\n",
    "            # RNN.\n",
    "            assert len(inputs_dis) == len(outputs_gen)\n",
    "            outputs_dis, last_state_dis = seq2seq.rnn_decoder(inputs_dis,\n",
    "                state_dis, cell_dis, loop_function=None)\n",
    "\n",
    "            # Predictions.\n",
    "            probs, logits = [], []\n",
    "            for output_dis in outputs_dis:\n",
    "                logit = tf.nn.xw_plus_b(output_dis, softmax_w_dis, softmax_b_dis)\n",
    "                prob = tf.nn.softmax(logit)\n",
    "                logits.append(logit)\n",
    "                probs.append(prob)\n",
    "\n",
    "    return probs\n",
    "#         with tf.name_scope('summary'):\n",
    "#             probs      = tf.pack(probs)\n",
    "#             probs_real = tf.slice(probs, [0,0,1], [seq_length, batch_size, 1])\n",
    "#             variable_summaries(probs_real, 'probability of real')\n",
    "\n",
    "#         final_state_dis = last_state_dis\n",
    "\n",
    "with tf.Session() as sess:\n",
    "    probs = construct_gan()\n",
    "    init_op = tf.initialize_all_variables()\n",
    "    sess.run(init_op)\n",
    "\n",
    "    for i, prob in enumerate(probs):\n",
    "        print 'Iteration %d'%i\n",
    "        print sess.run(prob),'\\n'"
   ]
  },
  {
   "cell_type": "markdown",
   "metadata": {},
   "source": [
    "## Random"
   ]
  },
  {
   "cell_type": "code",
   "execution_count": null,
   "metadata": {
    "collapsed": false
   },
   "outputs": [],
   "source": [
    "indices = [['0','1','2'],['0','1','2'],['0','1','2']]\n",
    "\n",
    "for line in indices:\n",
    "    print ''.join(line)"
   ]
  },
  {
   "cell_type": "code",
   "execution_count": null,
   "metadata": {
    "collapsed": true
   },
   "outputs": [],
   "source": [
    "def variable_summaries(var, name):\n",
    "    '''Attach a lot of summaries to a Tensor.'''\n",
    "    mean = tf.reduce_mean(var)\n",
    "    tf.scalar_summary('mean/' + name, mean)\n",
    "    with tf.name_scope('stddev'):\n",
    "        stddev = tf.sqrt(tf.reduce_sum(tf.square(var - mean)))\n",
    "    tf.scalar_summary('sttdev/' + name, stddev)\n",
    "    tf.scalar_summary('max/' + name, tf.reduce_max(var))\n",
    "    tf.scalar_summary('min/' + name, tf.reduce_min(var))\n",
    "    tf.histogram_summary(name, var)"
   ]
  }
 ],
 "metadata": {
  "kernelspec": {
   "display_name": "Python 2",
   "language": "python",
   "name": "python2"
  },
  "language_info": {
   "codemirror_mode": {
    "name": "ipython",
    "version": 2
   },
   "file_extension": ".py",
   "mimetype": "text/x-python",
   "name": "python",
   "nbconvert_exporter": "python",
   "pygments_lexer": "ipython2",
   "version": "2.7.6"
  }
 },
 "nbformat": 4,
 "nbformat_minor": 0
}
