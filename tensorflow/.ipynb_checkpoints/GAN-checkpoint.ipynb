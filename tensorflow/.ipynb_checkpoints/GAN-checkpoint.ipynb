{
 "cells": [
  {
   "cell_type": "code",
   "execution_count": 1,
   "metadata": {
    "collapsed": true
   },
   "outputs": [],
   "source": [
    "def variable_summaries(var, name):\n",
    "    '''Attach a lot of summaries to a Tensor.'''\n",
    "    mean = tf.reduce_mean(var)\n",
    "    tf.scalar_summary('mean/' + name, mean)\n",
    "    with tf.name_scope('stddev'):\n",
    "        stddev = tf.sqrt(tf.reduce_sum(tf.square(var - mean)))\n",
    "    tf.scalar_summary('sttdev/' + name, stddev)\n",
    "    tf.scalar_summary('max/' + name, tf.reduce_max(var))\n",
    "    tf.scalar_summary('min/' + name, tf.reduce_min(var))\n",
    "    tf.histogram_summary(name, var)"
   ]
  },
  {
   "cell_type": "code",
   "execution_count": 5,
   "metadata": {
    "collapsed": true
   },
   "outputs": [],
   "source": [
    "# Parameters\n",
    "batch_size = 3\n",
    "seq_length = 6\n",
    "rnn_size   = 10\n",
    "vocab_size = 5\n",
    "save_dir_GAN = 'models_GAN'\n",
    "vocab_file = 'simple_vocab.pkl'"
   ]
  },
  {
   "cell_type": "code",
   "execution_count": 7,
   "metadata": {
    "collapsed": true
   },
   "outputs": [],
   "source": [
    "# Load Vocabulary\n",
    "def load_vocab(save_dir_GAN, vocab_file):\n",
    "    with open(os.path.join(save_dir_GAN, vocab_file)) as f:\n",
    "            chars, vocab = cPickle.load(f)\n",
    "    return chars, vocab"
   ]
  },
  {
   "cell_type": "code",
   "execution_count": 18,
   "metadata": {
    "collapsed": false,
    "scrolled": false
   },
   "outputs": [
    {
     "name": "stdout",
     "output_type": "stream",
     "text": [
      "Iteration 0\n",
      "[[ 0.30403408 -0.26771852  0.19431508  0.22727016 -0.63242078]\n",
      " [ 0.30403408 -0.26771852  0.19431508  0.22727016 -0.63242078]\n",
      " [ 0.30403408 -0.26771852  0.19431508  0.22727016 -0.63242078]] \n",
      "\n",
      "Iteration 1\n",
      "[[-0.44248095 -0.15844089 -0.34413084 -0.32716376  0.59910625]\n",
      " [-0.1745134  -0.16597527  0.02005495 -0.25871766  0.1281158 ]\n",
      " [-0.43781179 -0.26545048 -0.1161093  -0.26218778  0.29250547]] \n",
      "\n",
      "Iteration 2\n",
      "[[-0.34299535  0.30456117  0.01472427  0.03606703  0.54125184]\n",
      " [-0.32324824  0.45628735 -0.06614508  0.01586654  0.52071214]\n",
      " [-0.33235455  0.48010355 -0.13279267 -0.09185726  0.69038892]] \n",
      "\n",
      "Iteration 3\n",
      "[[-0.23449898  0.66844499 -0.16266468 -0.06771486  0.57047075]\n",
      " [-0.30357677 -0.12678406 -0.09763687 -0.1350974   0.27513558]\n",
      " [-0.30357677 -0.12678406 -0.09763687 -0.1350974   0.27513558]] \n",
      "\n",
      "Iteration 4\n",
      "[[ 0.35037124 -0.36063778 -0.01734419  0.26395705 -0.57501447]\n",
      " [-0.05315702  0.1221674   0.21576419  0.113224    0.0220728 ]\n",
      " [ 0.48546779 -0.35742638 -0.03047195  0.36614522 -0.72926193]] \n",
      "\n",
      "Iteration 5\n",
      "[[-0.15406907  0.3360039   0.37066957  0.03029951  0.17481378]\n",
      " [-0.2703186   0.46741951 -0.49685803 -0.15942287  0.7624824 ]\n",
      " [ 0.32181656 -0.5040347   0.43539509  0.29421741 -0.94506073]] \n",
      "\n",
      "Iteration 0\n",
      "[' ', 'e', 'e'] \n",
      "\n",
      "Iteration 1\n",
      "['r', 'b', 'e'] \n",
      "\n",
      "Iteration 2\n",
      "['b', '\\n', '\\n'] \n",
      "\n",
      "Iteration 3\n",
      "[' ', ' ', 'r'] \n",
      "\n",
      "Iteration 4\n",
      "[' ', 'r', 'b'] \n",
      "\n",
      "Iteration 5\n",
      "['\\n', '\\n', 'r'] \n",
      "\n"
     ]
    },
    {
     "ename": "TypeError",
     "evalue": "",
     "output_type": "error",
     "traceback": [
      "\u001b[1;31m---------------------------------------------------------------------------\u001b[0m",
      "\u001b[1;31mTypeError\u001b[0m                                 Traceback (most recent call last)",
      "\u001b[1;32m<ipython-input-18-ab61bed0c83f>\u001b[0m in \u001b[0;36m<module>\u001b[1;34m()\u001b[0m\n\u001b[0;32m     57\u001b[0m \u001b[1;33m\u001b[0m\u001b[0m\n\u001b[0;32m     58\u001b[0m     \u001b[1;32mfor\u001b[0m \u001b[0mline\u001b[0m \u001b[1;32min\u001b[0m \u001b[0mindices\u001b[0m\u001b[1;33m:\u001b[0m\u001b[1;33m\u001b[0m\u001b[0m\n\u001b[1;32m---> 59\u001b[1;33m         \u001b[1;32mprint\u001b[0m \u001b[1;34m''\u001b[0m\u001b[1;33m.\u001b[0m\u001b[0mjoin\u001b[0m\u001b[1;33m(\u001b[0m\u001b[0mline\u001b[0m\u001b[1;33m)\u001b[0m\u001b[1;33m\u001b[0m\u001b[0m\n\u001b[0m",
      "\u001b[1;31mTypeError\u001b[0m: "
     ]
    }
   ],
   "source": [
    "# Generator\n",
    "import tensorflow as tf\n",
    "import os\n",
    "import cPickle\n",
    "from tensorflow.contrib.distributions import Categorical\n",
    "tf.reset_default_graph()\n",
    "\n",
    "def map_to_text(indices, chars):\n",
    "    text = []\n",
    "    for index in indices:\n",
    "        text.append(chars[index])\n",
    "    return text\n",
    "\n",
    "def generate():    \n",
    "    # Vocabulary\n",
    "\n",
    "    # Initial indices\n",
    "    batch_indices = tf.constant(3, shape=[batch_size])\n",
    "\n",
    "    # Embeddings and Logits\n",
    "    embedding = tf.get_variable('embedding', [vocab_size, rnn_size])\n",
    "    softmax   = tf.get_variable('softmax', [rnn_size, vocab_size])\n",
    "\n",
    "    # RNN\n",
    "    outputs, indices = [], []\n",
    "    cell = tf.nn.rnn_cell.BasicRNNCell(rnn_size)\n",
    "    state = cell.zero_state(batch_size, tf.float32)\n",
    "    inp = tf.nn.embedding_lookup(embedding, batch_indices)\n",
    "        \n",
    "    with tf.variable_scope('rnn'):\n",
    "        for i in xrange(seq_length):\n",
    "            indices.append(batch_indices)\n",
    "            if i > 0:\n",
    "                tf.get_variable_scope().reuse_variables()\n",
    "            rnn_out, state = cell(inp, state)\n",
    "            logits_out = tf.matmul(rnn_out, softmax)\n",
    "            outputs.append(logits_out)\n",
    "            batch_indices = tf.squeeze(Categorical(logits_out).sample(n=1))\n",
    "            inp = tf.nn.embedding_lookup(embedding, batch_indices)\n",
    "            \n",
    "    return outputs, indices\n",
    "            \n",
    "\n",
    "with tf.Session() as sess: \n",
    "    outputs, indices = generate()\n",
    "    init_op = tf.initialize_all_variables()\n",
    "    sess.run(init_op)\n",
    "\n",
    "    chars, vocab = load_vocab(save_dir_GAN, vocab_file)\n",
    "    \n",
    "    for i, output in enumerate(outputs):\n",
    "        print 'Iteration %d'%i\n",
    "        print sess.run(output),'\\n'\n",
    "    \n",
    "    for i, batch_indices in enumerate(indices):\n",
    "        print 'Iteration %d'%i\n",
    "        print map_to_text(sess.run(batch_indices), chars),'\\n'\n",
    "    \n",
    "    for line in indices:\n",
    "        print ''.join(line)"
   ]
  },
  {
   "cell_type": "code",
   "execution_count": 29,
   "metadata": {
    "collapsed": false
   },
   "outputs": [
    {
     "name": "stdout",
     "output_type": "stream",
     "text": [
      "Indices:  [2 2 2 2 1]\n"
     ]
    }
   ],
   "source": [
    "tf.reset_default_graph()\n",
    "logits = tf.constant([1.,2.,3.])\n",
    "indices = tf.squeeze(Categorical(logits).sample(n=5))\n",
    "\n",
    "with tf.Session() as sess:\n",
    "    print 'Indices: ',indices.eval()"
   ]
  },
  {
   "cell_type": "code",
   "execution_count": 13,
   "metadata": {
    "collapsed": false
   },
   "outputs": [
    {
     "ename": "SyntaxError",
     "evalue": "invalid syntax (<ipython-input-13-16988b96449e>, line 5)",
     "output_type": "error",
     "traceback": [
      "\u001b[1;36m  File \u001b[1;32m\"<ipython-input-13-16988b96449e>\"\u001b[1;36m, line \u001b[1;32m5\u001b[0m\n\u001b[1;33m    chars[0 1]\u001b[0m\n\u001b[1;37m            ^\u001b[0m\n\u001b[1;31mSyntaxError\u001b[0m\u001b[1;31m:\u001b[0m invalid syntax\n"
     ]
    }
   ],
   "source": [
    "import os\n",
    "import cPickle\n",
    "\n",
    "chars, vocab = load_vocab('models_GAN','simple_vocab.pkl')\n",
    "chars[0 1]\n",
    "# vocab"
   ]
  },
  {
   "cell_type": "code",
   "execution_count": null,
   "metadata": {
    "collapsed": true
   },
   "outputs": [],
   "source": [
    "# Train Generator\n",
    "def train_generator():\n",
    "    pass"
   ]
  },
  {
   "cell_type": "code",
   "execution_count": null,
   "metadata": {
    "collapsed": true
   },
   "outputs": [],
   "source": [
    "# Train Discriminator\n",
    "def train_discriminator():\n",
    "    pass"
   ]
  }
 ],
 "metadata": {
  "kernelspec": {
   "display_name": "Python 2",
   "language": "python",
   "name": "python2"
  },
  "language_info": {
   "codemirror_mode": {
    "name": "ipython",
    "version": 2
   },
   "file_extension": ".py",
   "mimetype": "text/x-python",
   "name": "python",
   "nbconvert_exporter": "python",
   "pygments_lexer": "ipython2",
   "version": "2.7.6"
  }
 },
 "nbformat": 4,
 "nbformat_minor": 0
}
