{
 "cells": [
  {
   "cell_type": "code",
   "execution_count": null,
   "metadata": {
    "collapsed": true
   },
   "outputs": [],
   "source": [
    "def variable_summaries(var, name):\n",
    "    '''Attach a lot of summaries to a Tensor.'''\n",
    "    mean = tf.reduce_mean(var)\n",
    "    tf.scalar_summary('mean/' + name, mean)\n",
    "    with tf.name_scope('stddev'):\n",
    "        stddev = tf.sqrt(tf.reduce_sum(tf.square(var - mean)))\n",
    "    tf.scalar_summary('sttdev/' + name, stddev)\n",
    "    tf.scalar_summary('max/' + name, tf.reduce_max(var))\n",
    "    tf.scalar_summary('min/' + name, tf.reduce_min(var))\n",
    "    tf.histogram_summary(name, var)"
   ]
  },
  {
   "cell_type": "code",
   "execution_count": 18,
   "metadata": {
    "collapsed": true
   },
   "outputs": [],
   "source": [
    "# Parameters\n",
    "batch_size = 3\n",
    "seq_length = 6\n",
    "rnn_size   = 10\n",
    "vocab_size = 5\n",
    "save_dir_GAN = 'models_GAN'\n",
    "vocab_file = 'simple_vocab.pkl'"
   ]
  },
  {
   "cell_type": "code",
   "execution_count": 5,
   "metadata": {
    "collapsed": true
   },
   "outputs": [],
   "source": [
    "# Load Vocabulary\n",
    "def load_vocab(save_dir_GAN, vocab_file):\n",
    "    with open(os.path.join(save_dir_GAN, vocab_file)) as f:\n",
    "            chars, vocab = cPickle.load(f)\n",
    "    return chars, vocab"
   ]
  },
  {
   "cell_type": "code",
   "execution_count": 47,
   "metadata": {
    "collapsed": false,
    "scrolled": false
   },
   "outputs": [
    {
     "name": "stdout",
     "output_type": "stream",
     "text": [
      "Iteration 0\n",
      "[[-0.34617978  0.20336334  0.02268175 -0.04673538 -0.28929198]\n",
      " [-0.34617978  0.20336334  0.02268175 -0.04673538 -0.28929198]\n",
      " [-0.34617978  0.20336334  0.02268175 -0.04673538 -0.28929198]] \n",
      "\n",
      "Iteration 1\n",
      "[[ 0.35516712  0.10131244  0.07381877 -0.35479796  0.16101244]\n",
      " [ 0.05509398  0.08782202  0.21242316 -0.45634913 -0.45755401]\n",
      " [-0.1003852   0.17804173  0.27465442 -0.46560803 -0.6932022 ]] \n",
      "\n",
      "Iteration 2\n",
      "[[ 0.19129771 -0.22701152  0.02287175 -0.70750898 -0.77059513]\n",
      " [ 0.36946377 -0.18053031  0.00662056  0.02199733  0.35659   ]\n",
      " [ 0.317045   -0.25418457 -0.01815362 -0.18503408  0.11885534]] \n",
      "\n",
      "Iteration 3\n",
      "[[ 0.22103436 -0.0832421   0.05149586  0.24169527  0.43850553]\n",
      " [ 0.38890791 -0.14602259 -0.02570416 -0.51335734 -0.66373748]\n",
      " [ 0.36453071 -0.27231413 -0.13302399 -0.61939329 -0.72989237]] \n",
      "\n",
      "Iteration 4\n",
      "[[ 0.17357416  0.15284172  0.10503966 -0.33290198  0.13347571]\n",
      " [ 0.01823761 -0.15699735 -0.25087681 -0.32819456 -0.53536671]\n",
      " [ 0.16192679 -0.19149378 -0.03260802  0.12183999  0.51674449]] \n",
      "\n",
      "Iteration 5\n",
      "[[ 0.31136546 -0.0133431   0.03638614  0.30662969  0.70141286]\n",
      " [ 0.11205171 -0.06868783  0.00216359  0.32300273  0.70858163]\n",
      " [ 0.21411936  0.05186869  0.05168768  0.360589    0.54762673]] \n",
      "\n"
     ]
    }
   ],
   "source": [
    "# Generator\n",
    "import tensorflow as tf\n",
    "from tensorflow.contrib.distributions import Categorical\n",
    "tf.reset_default_graph()\n",
    "\n",
    "def map_to_text(indices, chars):\n",
    "    text = []\n",
    "    for index in indices:\n",
    "        text.append(chars[index])\n",
    "    return text\n",
    "\n",
    "def generate():    \n",
    "    # Vocabulary\n",
    "#     chars, vocab = load_vocab(save_dir_GAN, vocab_file)\n",
    "\n",
    "    # Initial indices\n",
    "    indices = tf.constant(3, shape=[batch_size])\n",
    "\n",
    "    # Embeddings and Logits\n",
    "    embedding = tf.get_variable('embedding', [vocab_size, rnn_size])\n",
    "    softmax   = tf.get_variable('softmax', [rnn_size, vocab_size])\n",
    "\n",
    "    # RNN\n",
    "    outputs, text = [], []\n",
    "    cell = tf.nn.rnn_cell.BasicRNNCell(rnn_size)\n",
    "    state = cell.zero_state(batch_size, tf.float32)\n",
    "    inp = tf.nn.embedding_lookup(embedding, indices)\n",
    "        \n",
    "    with tf.variable_scope('rnn'):\n",
    "        for i in xrange(seq_length):\n",
    "            if i > 0:\n",
    "                tf.get_variable_scope().reuse_variables()\n",
    "            rnn_out, state = cell(inp, state)\n",
    "            logits_out = tf.matmul(rnn_out, softmax)\n",
    "            outputs.append(logits_out)\n",
    "            indices = tf.squeeze(Categorical(logits_out).sample(n=1))\n",
    "            inp = tf.nn.embedding_lookup(embedding, indices)\n",
    "    return outputs\n",
    "            \n",
    "\n",
    "with tf.Session() as sess: \n",
    "    outputs = generate()\n",
    "    init_op = tf.initialize_all_variables()\n",
    "    sess.run(init_op)\n",
    "\n",
    "    for i, output in enumerate(outputs):\n",
    "        print 'Iteration %d'%i\n",
    "        print sess.run(output),'\\n'"
   ]
  },
  {
   "cell_type": "code",
   "execution_count": 29,
   "metadata": {
    "collapsed": false
   },
   "outputs": [
    {
     "name": "stdout",
     "output_type": "stream",
     "text": [
      "Indices:  [2 2 2 2 1]\n"
     ]
    }
   ],
   "source": [
    "tf.reset_default_graph()\n",
    "logits = tf.constant([1.,2.,3.])\n",
    "indices = tf.squeeze(Categorical(logits).sample(n=5))\n",
    "\n",
    "with tf.Session() as sess:\n",
    "    print 'Indices: ',indices.eval()"
   ]
  },
  {
   "cell_type": "code",
   "execution_count": 41,
   "metadata": {
    "collapsed": false
   },
   "outputs": [
    {
     "data": {
      "text/plain": [
       "('e', ' ', 'r', 'b', '\\n')"
      ]
     },
     "execution_count": 41,
     "metadata": {},
     "output_type": "execute_result"
    }
   ],
   "source": [
    "import os\n",
    "import cPickle\n",
    "\n",
    "chars, vocab = load_vocab('models_GAN','simple_vocab.pkl')\n",
    "chars\n",
    "# vocab"
   ]
  },
  {
   "cell_type": "code",
   "execution_count": null,
   "metadata": {
    "collapsed": true
   },
   "outputs": [],
   "source": [
    "# Train Generator\n",
    "def train_generator():\n",
    "    pass"
   ]
  },
  {
   "cell_type": "code",
   "execution_count": null,
   "metadata": {
    "collapsed": true
   },
   "outputs": [],
   "source": [
    "# Train Discriminator\n",
    "def train_discriminator():\n",
    "    pass"
   ]
  }
 ],
 "metadata": {
  "kernelspec": {
   "display_name": "Python 2",
   "language": "python",
   "name": "python2"
  },
  "language_info": {
   "codemirror_mode": {
    "name": "ipython",
    "version": 2
   },
   "file_extension": ".py",
   "mimetype": "text/x-python",
   "name": "python",
   "nbconvert_exporter": "python",
   "pygments_lexer": "ipython2",
   "version": "2.7.6"
  }
 },
 "nbformat": 4,
 "nbformat_minor": 0
}
